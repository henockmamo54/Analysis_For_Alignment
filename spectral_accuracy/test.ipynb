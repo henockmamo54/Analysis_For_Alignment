{
 "cells": [
  {
   "cell_type": "code",
   "execution_count": 9,
   "id": "bdc8d2fa",
   "metadata": {},
   "outputs": [],
   "source": [
    "import numpy as np\n",
    "import pandas as pd\n",
    "import math"
   ]
  },
  {
   "cell_type": "code",
   "execution_count": 23,
   "id": "195d5240",
   "metadata": {},
   "outputs": [
    {
     "name": "stdout",
     "output_type": "stream",
     "text": [
      "55.299711897342775\n"
     ]
    }
   ],
   "source": [
    "h = [ 9,  9,  9,  1,  1,  1];    \n",
    "g = [ 1,  1,  1,  1,  7,  8];     \n",
    "KL_hg = -sum(np.multiply( h,[math.log(x) for x in np.divide(g,h) ] ))\n",
    "print (KL_hg)\n",
    " \n",
    "# KL_gh = -sum( g*math.log(np.divide(h,g)) ) \n",
    "# print (KL_gh)"
   ]
  },
  {
   "cell_type": "code",
   "execution_count": 25,
   "id": "ede82f85",
   "metadata": {},
   "outputs": [
    {
     "name": "stdout",
     "output_type": "stream",
     "text": [
      "0.04623323507309175\n"
     ]
    }
   ],
   "source": [
    "g=[0.51452867368133837,0.288014632102556,0.1351155398254297,0.050520332633164113,0.00836645657809808,0.0034543651794137894]\n",
    "h=[0.39896562774829858,0.3099347468963623,0.17415692470207217,0.076495048136329666,0.028181869896221168,0.011945782620716099]\n",
    "KL_hg = -sum(np.multiply( h,[math.log(x) for x in np.divide(g,h) ] ))\n",
    "print (KL_hg)"
   ]
  },
  {
   "cell_type": "code",
   "execution_count": null,
   "id": "75d0af99",
   "metadata": {},
   "outputs": [],
   "source": []
  }
 ],
 "metadata": {
  "kernelspec": {
   "display_name": "Python 3 (ipykernel)",
   "language": "python",
   "name": "python3"
  },
  "language_info": {
   "codemirror_mode": {
    "name": "ipython",
    "version": 3
   },
   "file_extension": ".py",
   "mimetype": "text/x-python",
   "name": "python",
   "nbconvert_exporter": "python",
   "pygments_lexer": "ipython3",
   "version": "3.9.11"
  }
 },
 "nbformat": 4,
 "nbformat_minor": 5
}
