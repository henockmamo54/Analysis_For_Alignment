{
 "cells": [
  {
   "cell_type": "code",
   "execution_count": 20,
   "id": "79a33f72",
   "metadata": {},
   "outputs": [],
   "source": [
    "import numpy as np\n",
    "import pandas as pd\n",
    "import os\n",
    "from matplotlib import pyplot as plt\n",
    "import seaborn as sns\n",
    "\n",
    "import warnings\n",
    "warnings.simplefilter(\"ignore\")"
   ]
  },
  {
   "cell_type": "code",
   "execution_count": 21,
   "id": "701a8dde",
   "metadata": {},
   "outputs": [],
   "source": [
    "# path= 'data/liver/'\n",
    "path=\"C:\\\\Workplace\\\\C++\\\\d2ome_v2\\\\v2\\\\v2\\\\bin\\\\Debug\\\\\" \n",
    "filelist=os.listdir(path)\n",
    "filelist.remove(\"compare.csv\")\n",
    "proteinlist= []\n",
    "for p in filelist:\n",
    "    if p.endswith(\".csv\") and \"_compar\" not in p and \"_Compar\" not in p:\n",
    "        proteinlist.append(p)  "
   ]
  },
  {
   "cell_type": "code",
   "execution_count": 22,
   "id": "8a4cef12",
   "metadata": {},
   "outputs": [
    {
     "name": "stdout",
     "output_type": "stream",
     "text": [
      "(48009, 38)\n",
      "Index(['proteinName', 'peptideSeq', 'charge', 'old_Rsquared', 'new_Rsquared',\n",
      "       'NDP', 'rateconstant', 'sigma', 'Abundance', 'MassToCharge', 'RMSE',\n",
      "       'selected_A1A0_count', ' selected_A2A0_count', ' selected_A2A1_count',\n",
      "       'improved_timePoints', 'new_k', 'I0_percentatediffI0_percentatediff',\n",
      "       'selected_io_t', 'i0', 'I0_asymptote', 'new_rmse', 'lowerci_old',\n",
      "       'upperci_old', 'sigma_old', 'lowerci_new', 'upperci_new', 'sigma_new',\n",
      "       'old_pearson', 'new_pearson', 'Protein', 'protien', 'peptide',\n",
      "       'rsquared', 'mo', 'io_e', 'io_a1a0', 'io_a2a0', 'io_a2a1'],\n",
      "      dtype='object')\n"
     ]
    }
   ],
   "source": [
    "data=pd.DataFrame()\n",
    "for  p in proteinlist: \n",
    "    d=pd.read_csv(os.path.join(path,p))\n",
    "    d[\"Protein\"]=p.replace('.csv','')    \n",
    "    data=pd.concat([data,d])\n",
    "print(data.shape)\n",
    "print(data.columns)"
   ]
  },
  {
   "cell_type": "code",
   "execution_count": 23,
   "id": "f273f246",
   "metadata": {},
   "outputs": [
    {
     "name": "stdout",
     "output_type": "stream",
     "text": [
      "(6795, 38)\n"
     ]
    }
   ],
   "source": [
    "data=data[data.NDP >=4]\n",
    "data=data[data.old_Rsquared>0.95]\n",
    "data=data.reset_index(drop=True)\n",
    "print(data.shape)\n",
    "\n",
    "# data=data[data.NDP >=6]\n",
    "# data=data[data.old_Rsquared<0.25]\n",
    "# data=data.reset_index(drop=True)\n",
    "# print(data.shape)"
   ]
  },
  {
   "cell_type": "code",
   "execution_count": 24,
   "id": "9d7ca009",
   "metadata": {},
   "outputs": [
    {
     "data": {
      "text/html": [
       "<div>\n",
       "<style scoped>\n",
       "    .dataframe tbody tr th:only-of-type {\n",
       "        vertical-align: middle;\n",
       "    }\n",
       "\n",
       "    .dataframe tbody tr th {\n",
       "        vertical-align: top;\n",
       "    }\n",
       "\n",
       "    .dataframe thead th {\n",
       "        text-align: right;\n",
       "    }\n",
       "</style>\n",
       "<table border=\"1\" class=\"dataframe\">\n",
       "  <thead>\n",
       "    <tr style=\"text-align: right;\">\n",
       "      <th></th>\n",
       "      <th>proteinName</th>\n",
       "      <th>peptideSeq</th>\n",
       "      <th>charge</th>\n",
       "      <th>old_Rsquared</th>\n",
       "      <th>new_Rsquared</th>\n",
       "      <th>NDP</th>\n",
       "      <th>rateconstant</th>\n",
       "      <th>sigma</th>\n",
       "      <th>Abundance</th>\n",
       "      <th>MassToCharge</th>\n",
       "      <th>...</th>\n",
       "      <th>new_pearson</th>\n",
       "      <th>Protein</th>\n",
       "      <th>protien</th>\n",
       "      <th>peptide</th>\n",
       "      <th>rsquared</th>\n",
       "      <th>mo</th>\n",
       "      <th>io_e</th>\n",
       "      <th>io_a1a0</th>\n",
       "      <th>io_a2a0</th>\n",
       "      <th>io_a2a1</th>\n",
       "    </tr>\n",
       "  </thead>\n",
       "  <tbody>\n",
       "    <tr>\n",
       "      <th>0</th>\n",
       "      <td>1433B_MOUSE</td>\n",
       "      <td>NLLSVAYK</td>\n",
       "      <td>2</td>\n",
       "      <td>0.953825</td>\n",
       "      <td>0.973210</td>\n",
       "      <td>12.0</td>\n",
       "      <td>0.16249</td>\n",
       "      <td>0.013771</td>\n",
       "      <td>1.432731e+09</td>\n",
       "      <td>454.26599</td>\n",
       "      <td>...</td>\n",
       "      <td>0.994301</td>\n",
       "      <td>1433B_MOUSE</td>\n",
       "      <td>NaN</td>\n",
       "      <td>NaN</td>\n",
       "      <td>NaN</td>\n",
       "      <td>NaN</td>\n",
       "      <td>NaN</td>\n",
       "      <td>NaN</td>\n",
       "      <td>NaN</td>\n",
       "      <td>NaN</td>\n",
       "    </tr>\n",
       "    <tr>\n",
       "      <th>1</th>\n",
       "      <td>1433B_MOUSE</td>\n",
       "      <td>DSTLIMQLLR</td>\n",
       "      <td>2</td>\n",
       "      <td>0.985986</td>\n",
       "      <td>0.997529</td>\n",
       "      <td>12.0</td>\n",
       "      <td>0.19307</td>\n",
       "      <td>0.009791</td>\n",
       "      <td>1.747584e+09</td>\n",
       "      <td>595.33411</td>\n",
       "      <td>...</td>\n",
       "      <td>0.999524</td>\n",
       "      <td>1433B_MOUSE</td>\n",
       "      <td>NaN</td>\n",
       "      <td>NaN</td>\n",
       "      <td>NaN</td>\n",
       "      <td>NaN</td>\n",
       "      <td>NaN</td>\n",
       "      <td>NaN</td>\n",
       "      <td>NaN</td>\n",
       "      <td>NaN</td>\n",
       "    </tr>\n",
       "    <tr>\n",
       "      <th>2</th>\n",
       "      <td>1433B_MOUSE</td>\n",
       "      <td>YLSEVASGENK</td>\n",
       "      <td>2</td>\n",
       "      <td>0.986787</td>\n",
       "      <td>0.996046</td>\n",
       "      <td>12.0</td>\n",
       "      <td>0.23813</td>\n",
       "      <td>0.011572</td>\n",
       "      <td>1.513652e+08</td>\n",
       "      <td>598.79327</td>\n",
       "      <td>...</td>\n",
       "      <td>0.998608</td>\n",
       "      <td>1433B_MOUSE</td>\n",
       "      <td>NaN</td>\n",
       "      <td>NaN</td>\n",
       "      <td>NaN</td>\n",
       "      <td>NaN</td>\n",
       "      <td>NaN</td>\n",
       "      <td>NaN</td>\n",
       "      <td>NaN</td>\n",
       "      <td>NaN</td>\n",
       "    </tr>\n",
       "    <tr>\n",
       "      <th>3</th>\n",
       "      <td>1433B_MOUSE</td>\n",
       "      <td>YLILNATQAESK</td>\n",
       "      <td>2</td>\n",
       "      <td>0.979972</td>\n",
       "      <td>0.993527</td>\n",
       "      <td>12.0</td>\n",
       "      <td>0.26716</td>\n",
       "      <td>0.016474</td>\n",
       "      <td>1.711845e+08</td>\n",
       "      <td>675.86682</td>\n",
       "      <td>...</td>\n",
       "      <td>0.997318</td>\n",
       "      <td>1433B_MOUSE</td>\n",
       "      <td>NaN</td>\n",
       "      <td>NaN</td>\n",
       "      <td>NaN</td>\n",
       "      <td>NaN</td>\n",
       "      <td>NaN</td>\n",
       "      <td>NaN</td>\n",
       "      <td>NaN</td>\n",
       "      <td>NaN</td>\n",
       "    </tr>\n",
       "    <tr>\n",
       "      <th>4</th>\n",
       "      <td>1433B_MOUSE</td>\n",
       "      <td>AVTEQGHELSNEER</td>\n",
       "      <td>3</td>\n",
       "      <td>0.984752</td>\n",
       "      <td>0.996204</td>\n",
       "      <td>12.0</td>\n",
       "      <td>0.25681</td>\n",
       "      <td>0.014046</td>\n",
       "      <td>3.332529e+07</td>\n",
       "      <td>533.58502</td>\n",
       "      <td>...</td>\n",
       "      <td>0.998252</td>\n",
       "      <td>1433B_MOUSE</td>\n",
       "      <td>NaN</td>\n",
       "      <td>NaN</td>\n",
       "      <td>NaN</td>\n",
       "      <td>NaN</td>\n",
       "      <td>NaN</td>\n",
       "      <td>NaN</td>\n",
       "      <td>NaN</td>\n",
       "      <td>NaN</td>\n",
       "    </tr>\n",
       "  </tbody>\n",
       "</table>\n",
       "<p>5 rows × 38 columns</p>\n",
       "</div>"
      ],
      "text/plain": [
       "   proteinName      peptideSeq charge  old_Rsquared  new_Rsquared   NDP  \\\n",
       "0  1433B_MOUSE        NLLSVAYK      2      0.953825      0.973210  12.0   \n",
       "1  1433B_MOUSE      DSTLIMQLLR      2      0.985986      0.997529  12.0   \n",
       "2  1433B_MOUSE     YLSEVASGENK      2      0.986787      0.996046  12.0   \n",
       "3  1433B_MOUSE    YLILNATQAESK      2      0.979972      0.993527  12.0   \n",
       "4  1433B_MOUSE  AVTEQGHELSNEER      3      0.984752      0.996204  12.0   \n",
       "\n",
       "  rateconstant     sigma     Abundance  MassToCharge  ...  new_pearson  \\\n",
       "0      0.16249  0.013771  1.432731e+09     454.26599  ...     0.994301   \n",
       "1      0.19307  0.009791  1.747584e+09     595.33411  ...     0.999524   \n",
       "2      0.23813  0.011572  1.513652e+08     598.79327  ...     0.998608   \n",
       "3      0.26716  0.016474  1.711845e+08     675.86682  ...     0.997318   \n",
       "4      0.25681  0.014046  3.332529e+07     533.58502  ...     0.998252   \n",
       "\n",
       "       Protein  protien  peptide rsquared   mo io_e io_a1a0  io_a2a0 io_a2a1  \n",
       "0  1433B_MOUSE      NaN      NaN      NaN  NaN  NaN     NaN      NaN     NaN  \n",
       "1  1433B_MOUSE      NaN      NaN      NaN  NaN  NaN     NaN      NaN     NaN  \n",
       "2  1433B_MOUSE      NaN      NaN      NaN  NaN  NaN     NaN      NaN     NaN  \n",
       "3  1433B_MOUSE      NaN      NaN      NaN  NaN  NaN     NaN      NaN     NaN  \n",
       "4  1433B_MOUSE      NaN      NaN      NaN  NaN  NaN     NaN      NaN     NaN  \n",
       "\n",
       "[5 rows x 38 columns]"
      ]
     },
     "execution_count": 24,
     "metadata": {},
     "output_type": "execute_result"
    }
   ],
   "source": [
    "data.head()"
   ]
  },
  {
   "cell_type": "code",
   "execution_count": 25,
   "id": "ef67fac9",
   "metadata": {},
   "outputs": [
    {
     "name": "stdout",
     "output_type": "stream",
     "text": [
      "(144278, 15)\n",
      "(141540, 15)\n"
     ]
    }
   ],
   "source": [
    "selected=pd.DataFrame()\n",
    "for p in data.proteinName.unique():\n",
    "    d=pd.read_csv(os.path.join(path,\"_compare\"+p+\".csv\"))\n",
    "    selected=pd.concat([selected,d])\n",
    "\n",
    "\n",
    "print(selected.shape)\n",
    "selected=selected.dropna()\n",
    "print(selected.shape)"
   ]
  },
  {
   "cell_type": "code",
   "execution_count": 26,
   "id": "377f5942",
   "metadata": {},
   "outputs": [
    {
     "data": {
      "text/html": [
       "<div>\n",
       "<style scoped>\n",
       "    .dataframe tbody tr th:only-of-type {\n",
       "        vertical-align: middle;\n",
       "    }\n",
       "\n",
       "    .dataframe tbody tr th {\n",
       "        vertical-align: top;\n",
       "    }\n",
       "\n",
       "    .dataframe thead th {\n",
       "        text-align: right;\n",
       "    }\n",
       "</style>\n",
       "<table border=\"1\" class=\"dataframe\">\n",
       "  <thead>\n",
       "    <tr style=\"text-align: right;\">\n",
       "      <th></th>\n",
       "      <th>Protein</th>\n",
       "      <th>Peptide</th>\n",
       "      <th>charge</th>\n",
       "      <th>time</th>\n",
       "      <th>RSS</th>\n",
       "      <th>theta</th>\n",
       "      <th>min_rss_decoy</th>\n",
       "      <th>diff</th>\n",
       "      <th>abs_diff</th>\n",
       "      <th>perc_diff</th>\n",
       "      <th>abs_perc_diff</th>\n",
       "      <th>exp_RIA_decoy</th>\n",
       "      <th>theoRIA</th>\n",
       "      <th>min_kl</th>\n",
       "      <th>min_kl_decoy</th>\n",
       "      <th>Decoy_deviation</th>\n",
       "    </tr>\n",
       "  </thead>\n",
       "  <tbody>\n",
       "    <tr>\n",
       "      <th>0</th>\n",
       "      <td>1433B_MOUSE</td>\n",
       "      <td>NLLSVAYK</td>\n",
       "      <td>2</td>\n",
       "      <td>0</td>\n",
       "      <td>0.000936</td>\n",
       "      <td>0.00</td>\n",
       "      <td>0.376617</td>\n",
       "      <td>0.000000</td>\n",
       "      <td>0.000000</td>\n",
       "      <td>0.000000</td>\n",
       "      <td>0.000000</td>\n",
       "      <td>0.109142</td>\n",
       "      <td>0.606359</td>\n",
       "      <td>-0.003070</td>\n",
       "      <td>1.109046</td>\n",
       "      <td>-0.497216</td>\n",
       "    </tr>\n",
       "    <tr>\n",
       "      <th>1</th>\n",
       "      <td>1433B_MOUSE</td>\n",
       "      <td>NLLSVAYK</td>\n",
       "      <td>2</td>\n",
       "      <td>1</td>\n",
       "      <td>0.000011</td>\n",
       "      <td>0.15</td>\n",
       "      <td>0.061413</td>\n",
       "      <td>-0.033410</td>\n",
       "      <td>0.033410</td>\n",
       "      <td>-0.064556</td>\n",
       "      <td>0.064556</td>\n",
       "      <td>0.336876</td>\n",
       "      <td>0.517534</td>\n",
       "      <td>-0.000789</td>\n",
       "      <td>0.143585</td>\n",
       "      <td>-0.180658</td>\n",
       "    </tr>\n",
       "    <tr>\n",
       "      <th>2</th>\n",
       "      <td>1433B_MOUSE</td>\n",
       "      <td>NLLSVAYK</td>\n",
       "      <td>2</td>\n",
       "      <td>2</td>\n",
       "      <td>0.000072</td>\n",
       "      <td>0.24</td>\n",
       "      <td>0.038979</td>\n",
       "      <td>-0.058956</td>\n",
       "      <td>0.058956</td>\n",
       "      <td>-0.126365</td>\n",
       "      <td>0.126365</td>\n",
       "      <td>0.361703</td>\n",
       "      <td>0.466553</td>\n",
       "      <td>0.001560</td>\n",
       "      <td>0.107810</td>\n",
       "      <td>-0.104849</td>\n",
       "    </tr>\n",
       "    <tr>\n",
       "      <th>3</th>\n",
       "      <td>1433B_MOUSE</td>\n",
       "      <td>NLLSVAYK</td>\n",
       "      <td>2</td>\n",
       "      <td>3</td>\n",
       "      <td>0.000276</td>\n",
       "      <td>0.40</td>\n",
       "      <td>0.000883</td>\n",
       "      <td>0.002829</td>\n",
       "      <td>0.002829</td>\n",
       "      <td>0.005776</td>\n",
       "      <td>0.005776</td>\n",
       "      <td>0.478532</td>\n",
       "      <td>0.489771</td>\n",
       "      <td>0.001444</td>\n",
       "      <td>0.000594</td>\n",
       "      <td>-0.011239</td>\n",
       "    </tr>\n",
       "    <tr>\n",
       "      <th>4</th>\n",
       "      <td>1433B_MOUSE</td>\n",
       "      <td>NLLSVAYK</td>\n",
       "      <td>2</td>\n",
       "      <td>9</td>\n",
       "      <td>0.000279</td>\n",
       "      <td>0.73</td>\n",
       "      <td>0.019340</td>\n",
       "      <td>-0.009702</td>\n",
       "      <td>0.009702</td>\n",
       "      <td>-0.024253</td>\n",
       "      <td>0.024253</td>\n",
       "      <td>0.336066</td>\n",
       "      <td>0.400021</td>\n",
       "      <td>0.001541</td>\n",
       "      <td>0.066709</td>\n",
       "      <td>-0.063955</td>\n",
       "    </tr>\n",
       "  </tbody>\n",
       "</table>\n",
       "</div>"
      ],
      "text/plain": [
       "       Protein   Peptide  charge  time       RSS  theta  min_rss_decoy  \\\n",
       "0  1433B_MOUSE  NLLSVAYK       2     0  0.000936   0.00       0.376617   \n",
       "1  1433B_MOUSE  NLLSVAYK       2     1  0.000011   0.15       0.061413   \n",
       "2  1433B_MOUSE  NLLSVAYK       2     2  0.000072   0.24       0.038979   \n",
       "3  1433B_MOUSE  NLLSVAYK       2     3  0.000276   0.40       0.000883   \n",
       "4  1433B_MOUSE  NLLSVAYK       2     9  0.000279   0.73       0.019340   \n",
       "\n",
       "       diff  abs_diff  perc_diff  abs_perc_diff  exp_RIA_decoy   theoRIA  \\\n",
       "0  0.000000  0.000000   0.000000       0.000000       0.109142  0.606359   \n",
       "1 -0.033410  0.033410  -0.064556       0.064556       0.336876  0.517534   \n",
       "2 -0.058956  0.058956  -0.126365       0.126365       0.361703  0.466553   \n",
       "3  0.002829  0.002829   0.005776       0.005776       0.478532  0.489771   \n",
       "4 -0.009702  0.009702  -0.024253       0.024253       0.336066  0.400021   \n",
       "\n",
       "     min_kl  min_kl_decoy  Decoy_deviation  \n",
       "0 -0.003070      1.109046        -0.497216  \n",
       "1 -0.000789      0.143585        -0.180658  \n",
       "2  0.001560      0.107810        -0.104849  \n",
       "3  0.001444      0.000594        -0.011239  \n",
       "4  0.001541      0.066709        -0.063955  "
      ]
     },
     "execution_count": 26,
     "metadata": {},
     "output_type": "execute_result"
    }
   ],
   "source": [
    "selected[\"Decoy_deviation\"]=selected.exp_RIA_decoy-selected.theoRIA\n",
    "selected.head(5)"
   ]
  },
  {
   "cell_type": "code",
   "execution_count": 27,
   "id": "6733dc90",
   "metadata": {},
   "outputs": [
    {
     "data": {
      "text/plain": [
       "(51785, 10)"
      ]
     },
     "execution_count": 27,
     "metadata": {},
     "output_type": "execute_result"
    }
   ],
   "source": [
    "merged=data.merge(selected,left_on=[\"proteinName\",\"peptideSeq\",\"charge\"], right_on=[\"Protein\",\"Peptide\",\"charge\"])[[\"Decoy_deviation\",\"proteinName\",\"peptideSeq\",\"charge\",\"time\",\"theta\",\"RSS\",\"perc_diff\",\"min_rss_decoy\",\"abs_perc_diff\"]]\n",
    "# merged=merged.dropna()\n",
    "merged.shape"
   ]
  },
  {
   "cell_type": "code",
   "execution_count": 33,
   "id": "137ea2cf",
   "metadata": {},
   "outputs": [
    {
     "data": {
      "image/png": "[encoded data removed]",
      "text/plain": [
       "<Figure size 720x360 with 2 Axes>"
      ]
     },
     "metadata": {
      "needs_background": "light"
     },
     "output_type": "display_data"
    },
    {
     "data": {
      "text/plain": [
       "<matplotlib.legend.Legend at 0x20756b47fa0>"
      ]
     },
     "execution_count": 33,
     "metadata": {},
     "output_type": "execute_result"
    },
    {
     "data": {
      "image/png": "[encoded data removed]",
      "text/plain": [
       "<Figure size 432x288 with 1 Axes>"
      ]
     },
     "metadata": {
      "needs_background": "light"
     },
     "output_type": "display_data"
    }
   ],
   "source": [
    "import math\n",
    "\n",
    "plt.figure(figsize=(10,5))\n",
    "\n",
    "plt.subplot(1,2,1) \n",
    "sns.distplot(merged[(merged.theta>0) ].RSS.astype(float) , \n",
    "              hist=True, kde=True, bins=100, \n",
    "             hist_kws={'edgecolor':'black'},\n",
    "             kde_kws={'linewidth': 1,\"bw_adjust\":0.6},label=\"Actual\")\n",
    "\n",
    "plt.subplot(1,2,2) \n",
    "sns.distplot(merged[(merged.theta>0) ].min_rss_decoy.astype(float) ,\n",
    "             hist=True, kde=True, bins=500, \n",
    "             hist_kws={'edgecolor':'black'},\n",
    "             kde_kws={'linewidth': 1,\"bw_adjust\":0.6},label=\"Decoy\")\n",
    "\n",
    " \n",
    "\n",
    "plt.xlabel(\"RSS\")\n",
    "plt.xlim([-0.001,0.01])\n",
    "plt.ylim([-10,2140])\n",
    "plt.legend()\n",
    "\n",
    "plt.show()\n",
    "\n",
    "# ==============================================================\n",
    "# ==============================================================\n",
    "# ==============================================================\n",
    "\n",
    "import math\n",
    "\n",
    "sns.distplot(merged[(merged.theta>0) ].RSS.astype(float) , \n",
    "              hist=True, kde=True, bins=500, \n",
    "             hist_kws={'edgecolor':'black'},\n",
    "             kde_kws={'linewidth': 1,\"bw_adjust\":0.6},label=\"Actual\")\n",
    "\n",
    "plt.legend()\n",
    "\n",
    "sns.distplot(merged[(merged.theta>0) ].min_rss_decoy.astype(float) ,\n",
    "             hist=True, kde=True, bins=500, \n",
    "             hist_kws={'edgecolor':'black'},\n",
    "             kde_kws={'linewidth': 1,\"bw_adjust\":0.6},label=\"Decoy\")\n",
    "\n",
    "plt.xlabel(\"RSS\")\n",
    "plt.xlim([-0.001,0.01])\n",
    "plt.ylim([-10,2140])\n",
    "plt.legend()"
   ]
  },
  {
   "cell_type": "code",
   "execution_count": 34,
   "id": "dc1d26e2",
   "metadata": {},
   "outputs": [
    {
     "data": {
      "text/plain": [
       "<matplotlib.legend.Legend at 0x2075da5a070>"
      ]
     },
     "execution_count": 34,
     "metadata": {},
     "output_type": "execute_result"
    },
    {
     "data": {
      "image/png": "[encoded data removed]",
      "text/plain": [
       "<Figure size 432x288 with 1 Axes>"
      ]
     },
     "metadata": {
      "needs_background": "light"
     },
     "output_type": "display_data"
    }
   ],
   "source": [
    "import math\n",
    "sns.distplot([math.log(float(x)) for x in \n",
    "             merged[(merged.theta>0) ].RSS.astype(float) #(merged.abs_perc_diff<0.1)& \n",
    "             ], hist=False, kde=True,  \n",
    "             hist_kws={'edgecolor':'black'},\n",
    "             kde_kws={'linewidth': 1,\"bw_adjust\":3},label=\"Actual\")\n",
    "\n",
    "\n",
    "sns.distplot([math.log(float(x)) for x in \n",
    "             merged[ (merged.theta>0) ].min_rss_decoy.astype(float) #(merged.abs_perc_diff<0.1)&\n",
    "             ], hist=False, kde=True, \n",
    "             bins=int(180/5),  \n",
    "             hist_kws={'edgecolor':'black' },\n",
    "             kde_kws={'linewidth': 1,\"bw_adjust\":3},label=\"Decoy\")\n",
    "\n",
    "plt.xlabel(\"log(RSS)\")\n",
    "\n",
    "plt.legend()"
   ]
  },
  {
   "cell_type": "code",
   "execution_count": 35,
   "id": "c478dbe1",
   "metadata": {},
   "outputs": [],
   "source": [
    "temp_merged=merged[(merged.theta>0) ].sort_values(by=\"RSS\")"
   ]
  },
  {
   "cell_type": "code",
   "execution_count": 190,
   "id": "2a3e000b",
   "metadata": {
    "scrolled": true
   },
   "outputs": [
    {
     "data": {
      "text/plain": [
       "Text(0.5, 0, 'RSS')"
      ]
     },
     "execution_count": 190,
     "metadata": {},
     "output_type": "execute_result"
    },
    {
     "data": {
      "image/png": "[encoded data removed]",
      "text/plain": [
       "<Figure size 432x288 with 1 Axes>"
      ]
     },
     "metadata": {
      "needs_background": "light"
     },
     "output_type": "display_data"
    }
   ],
   "source": [
    "\n",
    "# initializing random values\n",
    "data = temp_merged.RSS #np.random.randn(N)\n",
    "  \n",
    "# getting data of the histogram\n",
    "count, bins_count = np.histogram(data, bins=50)\n",
    "  \n",
    "# finding the PDF of the histogram using count values\n",
    "pdf = count / sum(count)\n",
    "  \n",
    "# using numpy np.cumsum to calculate the CDF\n",
    "# We can also find using the PDF values by looping and adding\n",
    "cdf = np.cumsum(pdf)\n",
    "  \n",
    "# plotting PDF and CDF\n",
    "plt.plot(bins_count[1:], pdf, color=\"red\", label=\"Actual-PDF\")\n",
    "# plt.plot(bins_count[1:], cdf, label=\"Actual-CDF\")\n",
    "plt.legend()\n",
    "\n",
    "# # ===================================================\n",
    "# # ===================================================\n",
    "# # ===================================================\n",
    "\n",
    "# initializing random values\n",
    "data = temp_merged.min_rss_decoy #np.random.randn(N)\n",
    "  \n",
    "# getting data of the histogram\n",
    "count, bins_count = np.histogram(data, bins=bins_count)\n",
    "  \n",
    "# finding the PDF of the histogram using count values\n",
    "pdf_decoy = count / sum(count)\n",
    "  \n",
    "# using numpy np.cumsum to calculate the CDF\n",
    "# We can also find using the PDF values by looping and adding\n",
    "cdf_decoy = np.cumsum(pdf_decoy)\n",
    "  \n",
    "# plotting PDF and CDF\n",
    "plt.plot(bins_count[1:], pdf_decoy, color=\"k\", label=\"Decoy-PDF\")\n",
    "# plt.plot(bins_count[1:], cdf, label=\"Actual-CDF\")\n",
    "plt.legend()\n",
    "\n",
    "plt.vlines(x=6.69863939e-03,ymin=0,ymax=1,linestyle=\"-.\",alpha=0.5)\n",
    "\n",
    "plt.xlabel(\"RSS\")"
   ]
  },
  {
   "cell_type": "code",
   "execution_count": 184,
   "id": "34d86a18",
   "metadata": {},
   "outputs": [],
   "source": [
    "\n",
    "# th=2.23298390e-03\n",
    "\n",
    "# decoy_test= temp_merged.min_rss_decoy \n",
    "# rss_test= temp_merged.RSS "
   ]
  },
  {
   "cell_type": "code",
   "execution_count": 182,
   "id": "76c08d8c",
   "metadata": {},
   "outputs": [],
   "source": [
    "# import random\n",
    "# from scipy import stats\n",
    "\n",
    "# pvals=[]\n",
    "\n",
    "# for i in range(100):\n",
    "#     random_items_decoy = random.sample(list(decoy_test), 5000)\n",
    "#     random_items_actual= random.sample(list(rss_test), 5000)\n",
    "#     pvals.append (stats.ttest_ind(random_items_decoy,random_items_actual)[1])\n",
    "\n",
    "#     import statsmodels.stats.multitest as mt\n",
    "# mt.fdrcorrection(pvals,0.05)"
   ]
  },
  {
   "cell_type": "code",
   "execution_count": 183,
   "id": "33e3c21e",
   "metadata": {},
   "outputs": [],
   "source": [
    "# list(bins_count).index(0.006698639389303444)"
   ]
  },
  {
   "cell_type": "code",
   "execution_count": 158,
   "id": "b2b38635",
   "metadata": {},
   "outputs": [],
   "source": [
    "# list(bins_count)"
   ]
  },
  {
   "cell_type": "code",
   "execution_count": 194,
   "id": "fa47f434",
   "metadata": {},
   "outputs": [],
   "source": [
    "dn=0\n",
    "for i in range(3,bins_count.shape[0]-1):\n",
    "    dn+=1#pdf_decoy[i]\n",
    "    "
   ]
  },
  {
   "cell_type": "code",
   "execution_count": 195,
   "id": "e7e698b1",
   "metadata": {},
   "outputs": [],
   "source": [
    "nn=0\n",
    "for i in range(3,bins_count.shape[0]-1):\n",
    "    nn += 1- (pdf[i]/(pdf[i]+ pdf_decoy[i]))"
   ]
  },
  {
   "cell_type": "code",
   "execution_count": 196,
   "id": "1b871271",
   "metadata": {},
   "outputs": [
    {
     "data": {
      "text/plain": [
       "0.970847253740404"
      ]
     },
     "execution_count": 196,
     "metadata": {},
     "output_type": "execute_result"
    }
   ],
   "source": [
    "nn/dn"
   ]
  },
  {
   "cell_type": "code",
   "execution_count": 198,
   "id": "006871dc",
   "metadata": {},
   "outputs": [
    {
     "name": "stdout",
     "output_type": "stream",
     "text": [
      "0.9316162595536226\n",
      "0.9486157960562566\n",
      "0.9611178791442389\n",
      "0.970847253740404\n",
      "0.9779711758038718\n",
      "0.9832336996619612\n",
      "0.9873600125381522\n",
      "0.9899961294190479\n",
      "0.9919237600522474\n",
      "0.9932484973632577\n",
      "0.9941997837563681\n",
      "0.9949014017431766\n",
      "0.99544708908279\n",
      "0.9957790927278335\n",
      "0.996268785975827\n",
      "0.9965274366272701\n",
      "0.9969455787442805\n",
      "0.9970217222854335\n",
      "0.9972654676560265\n",
      "0.9974968748561714\n",
      "0.9977040342673754\n",
      "0.997864724639024\n",
      "0.9980935187574275\n",
      "0.9983351466832543\n",
      "0.9983289456547012\n",
      "0.9984494717031397\n",
      "0.9984493111337028\n",
      "0.9985398866248024\n",
      "0.9985566073283055\n",
      "0.9986948546834232\n",
      "0.9986295974175944\n",
      "0.9985574709658888\n",
      "0.9987034568340809\n",
      "0.9986271895890269\n",
      "0.9986806743113366\n",
      "0.9985927192654257\n",
      "0.9984921992129561\n",
      "0.9983762145370296\n",
      "0.998240899081782\n",
      "0.9983520735368522\n",
      "0.9981872808905374\n",
      "0.9979858676561526\n",
      "0.9981147324186601\n",
      "0.9983187695822419\n",
      "0.9980385645126155\n",
      "0.9976462774151387\n",
      "0.9979587531014608\n",
      "0.9972783374686144\n",
      "0.9959175062029215\n",
      "0.991835012405843\n"
     ]
    }
   ],
   "source": [
    "for start in range(0,bins_count.shape[0]-1):\n",
    "    dn=0\n",
    "    for i in range(start,bins_count.shape[0]-1):\n",
    "        dn+=1#pdf_decoy[i]\n",
    "        \n",
    "    nn=0\n",
    "    for i in range(start,bins_count.shape[0]-1):\n",
    "        nn += 1- (pdf[i]/(pdf[i]+ pdf_decoy[i]))\n",
    "        \n",
    "    print(nn/dn)"
   ]
  },
  {
   "cell_type": "code",
   "execution_count": null,
   "id": "b5a175c4",
   "metadata": {},
   "outputs": [],
   "source": []
  }
 ],
 "metadata": {
  "kernelspec": {
   "display_name": "Python 3 (ipykernel)",
   "language": "python",
   "name": "python3"
  },
  "language_info": {
   "codemirror_mode": {
    "name": "ipython",
    "version": 3
   },
   "file_extension": ".py",
   "mimetype": "text/x-python",
   "name": "python",
   "nbconvert_exporter": "python",
   "pygments_lexer": "ipython3",
   "version": "3.9.11"
  }
 },
 "nbformat": 4,
 "nbformat_minor": 5
}
