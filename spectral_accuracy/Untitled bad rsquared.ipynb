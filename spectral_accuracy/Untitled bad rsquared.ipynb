{
 "cells": [
  {
   "cell_type": "code",
   "execution_count": 1,
   "id": "c5523c38",
   "metadata": {},
   "outputs": [],
   "source": [
    "import numpy as np\n",
    "import pandas as pd\n",
    "import os\n",
    "from matplotlib import pyplot as plt\n",
    "import seaborn as sns"
   ]
  },
  {
   "cell_type": "code",
   "execution_count": 40,
   "id": "e98e1e90",
   "metadata": {},
   "outputs": [],
   "source": [
    "# path= 'data/liver/'\n",
    "path=\"C:\\\\Workplace\\\\C++\\\\d2ome_v2\\\\v2\\\\v2\\\\bin\\\\Release\\\\\" \n",
    "filelist=os.listdir(path)\n",
    "filelist.remove(\"compare.csv\")\n",
    "proteinlist= []\n",
    "for p in filelist:\n",
    "    if p.endswith(\".csv\") and \"_compar\" not in p and \"_Compar\" not in p:\n",
    "        proteinlist.append(p)  "
   ]
  },
  {
   "cell_type": "code",
   "execution_count": 41,
   "id": "578b1e28",
   "metadata": {},
   "outputs": [
    {
     "name": "stdout",
     "output_type": "stream",
     "text": [
      "(48009, 38)\n",
      "Index(['proteinName', 'peptideSeq', 'charge', 'old_Rsquared', 'new_Rsquared',\n",
      "       'NDP', 'rateconstant', 'sigma', 'Abundance', 'MassToCharge', 'RMSE',\n",
      "       'selected_A1A0_count', ' selected_A2A0_count', ' selected_A2A1_count',\n",
      "       'improved_timePoints', 'new_k', 'I0_percentatediffI0_percentatediff',\n",
      "       'selected_io_t', 'i0', 'I0_asymptote', 'new_rmse', 'lowerci_old',\n",
      "       'upperci_old', 'sigma_old', 'lowerci_new', 'upperci_new', 'sigma_new',\n",
      "       'old_pearson', 'new_pearson', 'Protein', 'protien', 'peptide',\n",
      "       'rsquared', 'mo', 'io_e', 'io_a1a0', 'io_a2a0', 'io_a2a1'],\n",
      "      dtype='object')\n"
     ]
    }
   ],
   "source": [
    "data=pd.DataFrame()\n",
    "for  p in proteinlist: \n",
    "    d=pd.read_csv(os.path.join(path,p))\n",
    "    d[\"Protein\"]=p.replace('.csv','')    \n",
    "    data=pd.concat([data,d])\n",
    "print(data.shape)\n",
    "print(data.columns)"
   ]
  },
  {
   "cell_type": "code",
   "execution_count": 42,
   "id": "38d327bf",
   "metadata": {},
   "outputs": [
    {
     "name": "stdout",
     "output_type": "stream",
     "text": [
      "(6350, 38)\n"
     ]
    }
   ],
   "source": [
    "# data=data[data.NDP >=6]\n",
    "# data=data[data.old_Rsquared>0.97]\n",
    "# data=data.reset_index(drop=True)\n",
    "# print(data.shape)\n",
    "\n",
    "data=data[data.NDP >=6]\n",
    "data=data[data.old_Rsquared<0.25]\n",
    "data=data.reset_index(drop=True)\n",
    "print(data.shape)"
   ]
  },
  {
   "cell_type": "code",
   "execution_count": 43,
   "id": "918562f6",
   "metadata": {},
   "outputs": [
    {
     "data": {
      "text/html": [
       "<div>\n",
       "<style scoped>\n",
       "    .dataframe tbody tr th:only-of-type {\n",
       "        vertical-align: middle;\n",
       "    }\n",
       "\n",
       "    .dataframe tbody tr th {\n",
       "        vertical-align: top;\n",
       "    }\n",
       "\n",
       "    .dataframe thead th {\n",
       "        text-align: right;\n",
       "    }\n",
       "</style>\n",
       "<table border=\"1\" class=\"dataframe\">\n",
       "  <thead>\n",
       "    <tr style=\"text-align: right;\">\n",
       "      <th></th>\n",
       "      <th>proteinName</th>\n",
       "      <th>peptideSeq</th>\n",
       "      <th>charge</th>\n",
       "      <th>old_Rsquared</th>\n",
       "      <th>new_Rsquared</th>\n",
       "      <th>NDP</th>\n",
       "      <th>rateconstant</th>\n",
       "      <th>sigma</th>\n",
       "      <th>Abundance</th>\n",
       "      <th>MassToCharge</th>\n",
       "      <th>...</th>\n",
       "      <th>new_pearson</th>\n",
       "      <th>Protein</th>\n",
       "      <th>protien</th>\n",
       "      <th>peptide</th>\n",
       "      <th>rsquared</th>\n",
       "      <th>mo</th>\n",
       "      <th>io_e</th>\n",
       "      <th>io_a1a0</th>\n",
       "      <th>io_a2a0</th>\n",
       "      <th>io_a2a1</th>\n",
       "    </tr>\n",
       "  </thead>\n",
       "  <tbody>\n",
       "    <tr>\n",
       "      <th>0</th>\n",
       "      <td>1433B_MOUSE</td>\n",
       "      <td>DSTLImQLLR</td>\n",
       "      <td>2</td>\n",
       "      <td>-0.132288</td>\n",
       "      <td>0.291445</td>\n",
       "      <td>12.0</td>\n",
       "      <td>0.10303</td>\n",
       "      <td>0.026401</td>\n",
       "      <td>4.965206e+07</td>\n",
       "      <td>603.33154</td>\n",
       "      <td>...</td>\n",
       "      <td>0.830570</td>\n",
       "      <td>1433B_MOUSE</td>\n",
       "      <td>NaN</td>\n",
       "      <td>NaN</td>\n",
       "      <td>NaN</td>\n",
       "      <td>NaN</td>\n",
       "      <td>NaN</td>\n",
       "      <td>NaN</td>\n",
       "      <td>NaN</td>\n",
       "      <td>NaN</td>\n",
       "    </tr>\n",
       "    <tr>\n",
       "      <th>1</th>\n",
       "      <td>1433B_MOUSE</td>\n",
       "      <td>SVFYYEILNSPEK</td>\n",
       "      <td>2</td>\n",
       "      <td>-0.502257</td>\n",
       "      <td>0.589116</td>\n",
       "      <td>12.0</td>\n",
       "      <td>0.1201</td>\n",
       "      <td>0.062119</td>\n",
       "      <td>1.999508e+07</td>\n",
       "      <td>794.89832</td>\n",
       "      <td>...</td>\n",
       "      <td>0.816219</td>\n",
       "      <td>1433B_MOUSE</td>\n",
       "      <td>NaN</td>\n",
       "      <td>NaN</td>\n",
       "      <td>NaN</td>\n",
       "      <td>NaN</td>\n",
       "      <td>NaN</td>\n",
       "      <td>NaN</td>\n",
       "      <td>NaN</td>\n",
       "      <td>NaN</td>\n",
       "    </tr>\n",
       "    <tr>\n",
       "      <th>2</th>\n",
       "      <td>1433E_MOUSE</td>\n",
       "      <td>QMVETELK</td>\n",
       "      <td>2</td>\n",
       "      <td>-1.336010</td>\n",
       "      <td>-0.754463</td>\n",
       "      <td>12.0</td>\n",
       "      <td>0.01346</td>\n",
       "      <td>0.008729</td>\n",
       "      <td>3.001270e+08</td>\n",
       "      <td>489.25223</td>\n",
       "      <td>...</td>\n",
       "      <td>0.154248</td>\n",
       "      <td>1433E_MOUSE</td>\n",
       "      <td>NaN</td>\n",
       "      <td>NaN</td>\n",
       "      <td>NaN</td>\n",
       "      <td>NaN</td>\n",
       "      <td>NaN</td>\n",
       "      <td>NaN</td>\n",
       "      <td>NaN</td>\n",
       "      <td>NaN</td>\n",
       "    </tr>\n",
       "    <tr>\n",
       "      <th>3</th>\n",
       "      <td>1433E_MOUSE</td>\n",
       "      <td>KEAAENSLVAYK</td>\n",
       "      <td>3</td>\n",
       "      <td>-3.450050</td>\n",
       "      <td>0.775584</td>\n",
       "      <td>12.0</td>\n",
       "      <td>0.21953</td>\n",
       "      <td>0.081955</td>\n",
       "      <td>1.863658e+07</td>\n",
       "      <td>441.56985</td>\n",
       "      <td>...</td>\n",
       "      <td>0.901272</td>\n",
       "      <td>1433E_MOUSE</td>\n",
       "      <td>NaN</td>\n",
       "      <td>NaN</td>\n",
       "      <td>NaN</td>\n",
       "      <td>NaN</td>\n",
       "      <td>NaN</td>\n",
       "      <td>NaN</td>\n",
       "      <td>NaN</td>\n",
       "      <td>NaN</td>\n",
       "    </tr>\n",
       "    <tr>\n",
       "      <th>4</th>\n",
       "      <td>1433E_MOUSE</td>\n",
       "      <td>AASDIAMTELPPTHPIR</td>\n",
       "      <td>3</td>\n",
       "      <td>0.118769</td>\n",
       "      <td>0.165274</td>\n",
       "      <td>12.0</td>\n",
       "      <td>0.00618</td>\n",
       "      <td>0.003892</td>\n",
       "      <td>3.735520e+08</td>\n",
       "      <td>607.31720</td>\n",
       "      <td>...</td>\n",
       "      <td>0.453481</td>\n",
       "      <td>1433E_MOUSE</td>\n",
       "      <td>NaN</td>\n",
       "      <td>NaN</td>\n",
       "      <td>NaN</td>\n",
       "      <td>NaN</td>\n",
       "      <td>NaN</td>\n",
       "      <td>NaN</td>\n",
       "      <td>NaN</td>\n",
       "      <td>NaN</td>\n",
       "    </tr>\n",
       "  </tbody>\n",
       "</table>\n",
       "<p>5 rows × 38 columns</p>\n",
       "</div>"
      ],
      "text/plain": [
       "   proteinName         peptideSeq charge  old_Rsquared  new_Rsquared   NDP  \\\n",
       "0  1433B_MOUSE         DSTLImQLLR      2     -0.132288      0.291445  12.0   \n",
       "1  1433B_MOUSE      SVFYYEILNSPEK      2     -0.502257      0.589116  12.0   \n",
       "2  1433E_MOUSE           QMVETELK      2     -1.336010     -0.754463  12.0   \n",
       "3  1433E_MOUSE       KEAAENSLVAYK      3     -3.450050      0.775584  12.0   \n",
       "4  1433E_MOUSE  AASDIAMTELPPTHPIR      3      0.118769      0.165274  12.0   \n",
       "\n",
       "  rateconstant     sigma     Abundance  MassToCharge  ...  new_pearson  \\\n",
       "0      0.10303  0.026401  4.965206e+07     603.33154  ...     0.830570   \n",
       "1       0.1201  0.062119  1.999508e+07     794.89832  ...     0.816219   \n",
       "2      0.01346  0.008729  3.001270e+08     489.25223  ...     0.154248   \n",
       "3      0.21953  0.081955  1.863658e+07     441.56985  ...     0.901272   \n",
       "4      0.00618  0.003892  3.735520e+08     607.31720  ...     0.453481   \n",
       "\n",
       "       Protein  protien  peptide rsquared   mo io_e io_a1a0  io_a2a0 io_a2a1  \n",
       "0  1433B_MOUSE      NaN      NaN      NaN  NaN  NaN     NaN      NaN     NaN  \n",
       "1  1433B_MOUSE      NaN      NaN      NaN  NaN  NaN     NaN      NaN     NaN  \n",
       "2  1433E_MOUSE      NaN      NaN      NaN  NaN  NaN     NaN      NaN     NaN  \n",
       "3  1433E_MOUSE      NaN      NaN      NaN  NaN  NaN     NaN      NaN     NaN  \n",
       "4  1433E_MOUSE      NaN      NaN      NaN  NaN  NaN     NaN      NaN     NaN  \n",
       "\n",
       "[5 rows x 38 columns]"
      ]
     },
     "execution_count": 43,
     "metadata": {},
     "output_type": "execute_result"
    }
   ],
   "source": [
    "data.head()"
   ]
  },
  {
   "cell_type": "code",
   "execution_count": 44,
   "id": "a4a38948",
   "metadata": {},
   "outputs": [
    {
     "name": "stdout",
     "output_type": "stream",
     "text": [
      "(4453, 11)\n",
      "(3688, 11)\n"
     ]
    }
   ],
   "source": [
    "selected=pd.DataFrame()\n",
    "for p in data.proteinName.unique():\n",
    "    d=pd.read_csv(os.path.join(path,\"_compare\"+p+\".csv\"))\n",
    "    selected=pd.concat([selected,d])\n",
    "\n",
    "\n",
    "print(selected.shape)\n",
    "selected=selected.dropna()\n",
    "print(selected.shape)"
   ]
  },
  {
   "cell_type": "code",
   "execution_count": 45,
   "id": "1b134640",
   "metadata": {},
   "outputs": [
    {
     "data": {
      "text/html": [
       "<div>\n",
       "<style scoped>\n",
       "    .dataframe tbody tr th:only-of-type {\n",
       "        vertical-align: middle;\n",
       "    }\n",
       "\n",
       "    .dataframe tbody tr th {\n",
       "        vertical-align: top;\n",
       "    }\n",
       "\n",
       "    .dataframe thead th {\n",
       "        text-align: right;\n",
       "    }\n",
       "</style>\n",
       "<table border=\"1\" class=\"dataframe\">\n",
       "  <thead>\n",
       "    <tr style=\"text-align: right;\">\n",
       "      <th></th>\n",
       "      <th>Protein</th>\n",
       "      <th>Peptide</th>\n",
       "      <th>charge</th>\n",
       "      <th>time</th>\n",
       "      <th>RSS</th>\n",
       "      <th>theta</th>\n",
       "      <th>min_rss_decoy</th>\n",
       "      <th>diff</th>\n",
       "      <th>abs_diff</th>\n",
       "      <th>perc_diff</th>\n",
       "      <th>abs_perc_diff</th>\n",
       "    </tr>\n",
       "  </thead>\n",
       "  <tbody>\n",
       "    <tr>\n",
       "      <th>0</th>\n",
       "      <td>1433B_MOUSE</td>\n",
       "      <td>IEAELQDIcNDVLELLDK</td>\n",
       "      <td>2</td>\n",
       "      <td>24</td>\n",
       "      <td>0.000609</td>\n",
       "      <td>0.91</td>\n",
       "      <td>0.000856</td>\n",
       "      <td>-0.011802</td>\n",
       "      <td>0.011802</td>\n",
       "      <td>-0.198403</td>\n",
       "      <td>0.198403</td>\n",
       "    </tr>\n",
       "    <tr>\n",
       "      <th>1</th>\n",
       "      <td>1433B_MOUSE</td>\n",
       "      <td>TAFDEAIAELDTLNEESYK</td>\n",
       "      <td>3</td>\n",
       "      <td>31</td>\n",
       "      <td>0.004091</td>\n",
       "      <td>0.59</td>\n",
       "      <td>0.006199</td>\n",
       "      <td>-0.009862</td>\n",
       "      <td>0.009862</td>\n",
       "      <td>-0.212066</td>\n",
       "      <td>0.212066</td>\n",
       "    </tr>\n",
       "    <tr>\n",
       "      <th>0</th>\n",
       "      <td>1433E_MOUSE</td>\n",
       "      <td>HLIPAANTGESK</td>\n",
       "      <td>2</td>\n",
       "      <td>16</td>\n",
       "      <td>0.000647</td>\n",
       "      <td>0.81</td>\n",
       "      <td>0.00508</td>\n",
       "      <td>0.003401</td>\n",
       "      <td>0.003401</td>\n",
       "      <td>0.020732</td>\n",
       "      <td>0.020732</td>\n",
       "    </tr>\n",
       "    <tr>\n",
       "      <th>1</th>\n",
       "      <td>1433E_MOUSE</td>\n",
       "      <td>LIccDILDVLDK</td>\n",
       "      <td>2</td>\n",
       "      <td>9</td>\n",
       "      <td>0.000236</td>\n",
       "      <td>0.95</td>\n",
       "      <td>0.002464</td>\n",
       "      <td>0.032121</td>\n",
       "      <td>0.032121</td>\n",
       "      <td>0.128232</td>\n",
       "      <td>0.128232</td>\n",
       "    </tr>\n",
       "    <tr>\n",
       "      <th>2</th>\n",
       "      <td>1433E_MOUSE</td>\n",
       "      <td>AAFDDAIAELDTLSEESYK</td>\n",
       "      <td>2</td>\n",
       "      <td>24</td>\n",
       "      <td>0.004831</td>\n",
       "      <td>0.63</td>\n",
       "      <td>0.003855</td>\n",
       "      <td>0.003214</td>\n",
       "      <td>0.003214</td>\n",
       "      <td>0.075668</td>\n",
       "      <td>0.075668</td>\n",
       "    </tr>\n",
       "  </tbody>\n",
       "</table>\n",
       "</div>"
      ],
      "text/plain": [
       "       Protein              Peptide charge time       RSS theta min_rss_decoy  \\\n",
       "0  1433B_MOUSE   IEAELQDIcNDVLELLDK      2   24  0.000609  0.91      0.000856   \n",
       "1  1433B_MOUSE  TAFDEAIAELDTLNEESYK      3   31  0.004091  0.59      0.006199   \n",
       "0  1433E_MOUSE         HLIPAANTGESK      2   16  0.000647  0.81       0.00508   \n",
       "1  1433E_MOUSE         LIccDILDVLDK      2    9  0.000236  0.95      0.002464   \n",
       "2  1433E_MOUSE  AAFDDAIAELDTLSEESYK      2   24  0.004831  0.63      0.003855   \n",
       "\n",
       "       diff  abs_diff perc_diff abs_perc_diff  \n",
       "0 -0.011802  0.011802 -0.198403      0.198403  \n",
       "1 -0.009862  0.009862 -0.212066      0.212066  \n",
       "0  0.003401  0.003401  0.020732      0.020732  \n",
       "1  0.032121  0.032121  0.128232      0.128232  \n",
       "2  0.003214  0.003214  0.075668      0.075668  "
      ]
     },
     "execution_count": 45,
     "metadata": {},
     "output_type": "execute_result"
    }
   ],
   "source": [
    "selected.head()"
   ]
  },
  {
   "cell_type": "code",
   "execution_count": 46,
   "id": "e041ce95",
   "metadata": {},
   "outputs": [],
   "source": [
    "merged=data.merge(selected,left_on=[\"proteinName\",\"peptideSeq\",\"charge\"], right_on=[\"Protein\",\"Peptide\",\"charge\"])[[\"time\",\"theta\",\"RSS\",\"perc_diff\",\"min_rss_decoy\",\"abs_perc_diff\"]]\n",
    "merged=merged.dropna()"
   ]
  },
  {
   "cell_type": "code",
   "execution_count": 47,
   "id": "a5e37a69",
   "metadata": {},
   "outputs": [
    {
     "data": {
      "text/html": [
       "<div>\n",
       "<style scoped>\n",
       "    .dataframe tbody tr th:only-of-type {\n",
       "        vertical-align: middle;\n",
       "    }\n",
       "\n",
       "    .dataframe tbody tr th {\n",
       "        vertical-align: top;\n",
       "    }\n",
       "\n",
       "    .dataframe thead th {\n",
       "        text-align: right;\n",
       "    }\n",
       "</style>\n",
       "<table border=\"1\" class=\"dataframe\">\n",
       "  <thead>\n",
       "    <tr style=\"text-align: right;\">\n",
       "      <th></th>\n",
       "      <th>time</th>\n",
       "      <th>theta</th>\n",
       "      <th>RSS</th>\n",
       "      <th>perc_diff</th>\n",
       "      <th>min_rss_decoy</th>\n",
       "      <th>abs_perc_diff</th>\n",
       "    </tr>\n",
       "  </thead>\n",
       "  <tbody>\n",
       "    <tr>\n",
       "      <th>14</th>\n",
       "      <td>24</td>\n",
       "      <td>0.56</td>\n",
       "      <td>0.003013</td>\n",
       "      <td>-0.55162</td>\n",
       "      <td>0.003301</td>\n",
       "      <td>0.55162</td>\n",
       "    </tr>\n",
       "    <tr>\n",
       "      <th>15</th>\n",
       "      <td>3</td>\n",
       "      <td>0.8</td>\n",
       "      <td>0.000542</td>\n",
       "      <td>0.626616</td>\n",
       "      <td>0.016764</td>\n",
       "      <td>0.626616</td>\n",
       "    </tr>\n",
       "    <tr>\n",
       "      <th>19</th>\n",
       "      <td>21</td>\n",
       "      <td>0.89</td>\n",
       "      <td>0.006765</td>\n",
       "      <td>0.674903</td>\n",
       "      <td>0.001849</td>\n",
       "      <td>0.674903</td>\n",
       "    </tr>\n",
       "    <tr>\n",
       "      <th>25</th>\n",
       "      <td>9</td>\n",
       "      <td>0.58</td>\n",
       "      <td>0.003436</td>\n",
       "      <td>0.783658</td>\n",
       "      <td>0.018227</td>\n",
       "      <td>0.783658</td>\n",
       "    </tr>\n",
       "    <tr>\n",
       "      <th>26</th>\n",
       "      <td>16</td>\n",
       "      <td>0.49</td>\n",
       "      <td>0.001716</td>\n",
       "      <td>-0.735544</td>\n",
       "      <td>0.006428</td>\n",
       "      <td>0.735544</td>\n",
       "    </tr>\n",
       "    <tr>\n",
       "      <th>...</th>\n",
       "      <td>...</td>\n",
       "      <td>...</td>\n",
       "      <td>...</td>\n",
       "      <td>...</td>\n",
       "      <td>...</td>\n",
       "      <td>...</td>\n",
       "    </tr>\n",
       "    <tr>\n",
       "      <th>1062</th>\n",
       "      <td>21</td>\n",
       "      <td>0.69</td>\n",
       "      <td>0.003193</td>\n",
       "      <td>-0.829845</td>\n",
       "      <td>0.001324</td>\n",
       "      <td>0.829845</td>\n",
       "    </tr>\n",
       "    <tr>\n",
       "      <th>1070</th>\n",
       "      <td>21</td>\n",
       "      <td>0.69</td>\n",
       "      <td>0.005396</td>\n",
       "      <td>-0.783118</td>\n",
       "      <td>0.004623</td>\n",
       "      <td>0.783118</td>\n",
       "    </tr>\n",
       "    <tr>\n",
       "      <th>1090</th>\n",
       "      <td>13</td>\n",
       "      <td>0.57</td>\n",
       "      <td>0.003045</td>\n",
       "      <td>0.670346</td>\n",
       "      <td>0.018597</td>\n",
       "      <td>0.670346</td>\n",
       "    </tr>\n",
       "    <tr>\n",
       "      <th>1104</th>\n",
       "      <td>3</td>\n",
       "      <td>0.49</td>\n",
       "      <td>0.001882</td>\n",
       "      <td>0.554211</td>\n",
       "      <td>0.004881</td>\n",
       "      <td>0.554211</td>\n",
       "    </tr>\n",
       "    <tr>\n",
       "      <th>1106</th>\n",
       "      <td>7</td>\n",
       "      <td>0.65</td>\n",
       "      <td>0.003494</td>\n",
       "      <td>-0.518092</td>\n",
       "      <td>0.011642</td>\n",
       "      <td>0.518092</td>\n",
       "    </tr>\n",
       "  </tbody>\n",
       "</table>\n",
       "<p>68 rows × 6 columns</p>\n",
       "</div>"
      ],
      "text/plain": [
       "     time theta       RSS perc_diff min_rss_decoy abs_perc_diff\n",
       "14     24  0.56  0.003013  -0.55162      0.003301       0.55162\n",
       "15      3   0.8  0.000542  0.626616      0.016764      0.626616\n",
       "19     21  0.89  0.006765  0.674903      0.001849      0.674903\n",
       "25      9  0.58  0.003436  0.783658      0.018227      0.783658\n",
       "26     16  0.49  0.001716 -0.735544      0.006428      0.735544\n",
       "...   ...   ...       ...       ...           ...           ...\n",
       "1062   21  0.69  0.003193 -0.829845      0.001324      0.829845\n",
       "1070   21  0.69  0.005396 -0.783118      0.004623      0.783118\n",
       "1090   13  0.57  0.003045  0.670346      0.018597      0.670346\n",
       "1104    3  0.49  0.001882  0.554211      0.004881      0.554211\n",
       "1106    7  0.65  0.003494 -0.518092      0.011642      0.518092\n",
       "\n",
       "[68 rows x 6 columns]"
      ]
     },
     "execution_count": 47,
     "metadata": {},
     "output_type": "execute_result"
    }
   ],
   "source": [
    "merged[(merged.abs_perc_diff>=0.5)& (merged.theta>0) & (merged.min_rss_decoy>0) ]"
   ]
  },
  {
   "cell_type": "code",
   "execution_count": 48,
   "id": "ab9fc5ac",
   "metadata": {},
   "outputs": [
    {
     "name": "stderr",
     "output_type": "stream",
     "text": [
      "C:\\Users\\hmdebern.UTMB-USERS-M\\.conda\\envs\\myenv\\lib\\site-packages\\seaborn\\distributions.py:2619: FutureWarning: `distplot` is a deprecated function and will be removed in a future version. Please adapt your code to use either `displot` (a figure-level function with similar flexibility) or `histplot` (an axes-level function for histograms).\n",
      "  warnings.warn(msg, FutureWarning)\n"
     ]
    },
    {
     "data": {
      "text/plain": [
       "<AxesSubplot:ylabel='Density'>"
      ]
     },
     "execution_count": 48,
     "metadata": {},
     "output_type": "execute_result"
    },
    {
     "data": {
      "image/png": "[encoded data removed]",
      "text/plain": [
       "<Figure size 432x288 with 1 Axes>"
      ]
     },
     "metadata": {
      "needs_background": "light"
     },
     "output_type": "display_data"
    }
   ],
   "source": [
    "import math\n",
    "sns.distplot([math.log(float(x)) for x in \n",
    "             merged[(merged.abs_perc_diff>=0.15)& (merged.theta>0) ].min_rss_decoy.astype(float)\n",
    "             ], hist=True, kde=True, \n",
    "             bins=int(180/5), color = 'darkblue', \n",
    "             hist_kws={'edgecolor':'black'},\n",
    "             kde_kws={'linewidth': 1})\n",
    "\n",
    "# sns.distplot(merged.min_rss_decoy, hist=True, kde=True, \n",
    "#              bins=int(180/5), color = 'darkblue', \n",
    "#              hist_kws={'edgecolor':'black'},\n",
    "#              kde_kws={'linewidth': 1})"
   ]
  },
  {
   "cell_type": "code",
   "execution_count": 49,
   "id": "8aa4fbf9",
   "metadata": {},
   "outputs": [
    {
     "name": "stderr",
     "output_type": "stream",
     "text": [
      "C:\\Users\\hmdebern.UTMB-USERS-M\\.conda\\envs\\myenv\\lib\\site-packages\\seaborn\\distributions.py:2619: FutureWarning: `distplot` is a deprecated function and will be removed in a future version. Please adapt your code to use either `displot` (a figure-level function with similar flexibility) or `histplot` (an axes-level function for histograms).\n",
      "  warnings.warn(msg, FutureWarning)\n"
     ]
    },
    {
     "data": {
      "text/plain": [
       "<AxesSubplot:xlabel='perc_diff', ylabel='Density'>"
      ]
     },
     "execution_count": 49,
     "metadata": {},
     "output_type": "execute_result"
    },
    {
     "data": {
      "image/png": "[encoded data removed]",
      "text/plain": [
       "<Figure size 432x288 with 1 Axes>"
      ]
     },
     "metadata": {
      "needs_background": "light"
     },
     "output_type": "display_data"
    }
   ],
   "source": [
    "sns.distplot(merged.perc_diff, hist=True, kde=True, \n",
    "             bins=int(180/5), color = 'darkblue', \n",
    "             hist_kws={'edgecolor':'black'},\n",
    "             kde_kws={'linewidth': 1})"
   ]
  },
  {
   "cell_type": "code",
   "execution_count": 11,
   "id": "8c1431e4",
   "metadata": {},
   "outputs": [
    {
     "data": {
      "text/plain": [
       "<matplotlib.collections.PathCollection at 0x2c8b8980040>"
      ]
     },
     "execution_count": 11,
     "metadata": {},
     "output_type": "execute_result"
    },
    {
     "data": {
      "image/png": "[encoded data removed]",
      "text/plain": [
       "<Figure size 432x288 with 1 Axes>"
      ]
     },
     "metadata": {
      "needs_background": "light"
     },
     "output_type": "display_data"
    }
   ],
   "source": [
    "plt.scatter(merged.theta,merged.RSS)"
   ]
  },
  {
   "cell_type": "code",
   "execution_count": null,
   "id": "4f0fbf09",
   "metadata": {},
   "outputs": [],
   "source": []
  },
  {
   "cell_type": "code",
   "execution_count": null,
   "id": "aa7c634b",
   "metadata": {},
   "outputs": [],
   "source": []
  },
  {
   "cell_type": "code",
   "execution_count": 12,
   "id": "09847271",
   "metadata": {},
   "outputs": [],
   "source": [
    "temp=selected.groupby(by=\"time\")[\"Peptide\"].count().reset_index()\n",
    "# temp.plot(kind='bar',x=\"time\",y=\"Peptide\",width=0.75,rot=0,figsize=(9,6))"
   ]
  },
  {
   "cell_type": "code",
   "execution_count": 13,
   "id": "2a89dd8a",
   "metadata": {},
   "outputs": [
    {
     "name": "stderr",
     "output_type": "stream",
     "text": [
      "C:\\Users\\hmdebern.UTMB-USERS-M\\.conda\\envs\\myenv\\lib\\site-packages\\seaborn\\distributions.py:2619: FutureWarning: `distplot` is a deprecated function and will be removed in a future version. Please adapt your code to use either `displot` (a figure-level function with similar flexibility) or `histplot` (an axes-level function for histograms).\n",
      "  warnings.warn(msg, FutureWarning)\n"
     ]
    },
    {
     "data": {
      "text/plain": [
       "<AxesSubplot:xlabel='RSS', ylabel='Density'>"
      ]
     },
     "execution_count": 13,
     "metadata": {},
     "output_type": "execute_result"
    },
    {
     "data": {
      "image/png": "[encoded data removed]",
      "text/plain": [
       "<Figure size 432x288 with 1 Axes>"
      ]
     },
     "metadata": {
      "needs_background": "light"
     },
     "output_type": "display_data"
    }
   ],
   "source": [
    "sns.distplot(selected.RSS, hist=True, kde=True, \n",
    "             bins=int(180/5), color = 'darkblue', \n",
    "             hist_kws={'edgecolor':'black'},\n",
    "             kde_kws={'linewidth': 1})"
   ]
  },
  {
   "cell_type": "code",
   "execution_count": null,
   "id": "1b2765f1",
   "metadata": {},
   "outputs": [],
   "source": []
  }
 ],
 "metadata": {
  "kernelspec": {
   "display_name": "Python 3 (ipykernel)",
   "language": "python",
   "name": "python3"
  },
  "language_info": {
   "codemirror_mode": {
    "name": "ipython",
    "version": 3
   },
   "file_extension": ".py",
   "mimetype": "text/x-python",
   "name": "python",
   "nbconvert_exporter": "python",
   "pygments_lexer": "ipython3",
   "version": "3.9.11"
  }
 },
 "nbformat": 4,
 "nbformat_minor": 5
}
