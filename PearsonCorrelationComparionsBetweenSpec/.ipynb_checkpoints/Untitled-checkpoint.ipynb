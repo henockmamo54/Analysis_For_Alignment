{
 "cells": [
  {
   "cell_type": "code",
   "execution_count": 9,
   "id": "05a3aa08",
   "metadata": {},
   "outputs": [],
   "source": [
    "import numpy as np\n",
    "import pandas as pd\n",
    "from matplotlib import pyplot as plt\n",
    "import os\n",
    "from matplotlib import pyplot as plt\n",
    "import seaborn as sns"
   ]
  },
  {
   "cell_type": "code",
   "execution_count": 2,
   "id": "0673f4bd",
   "metadata": {},
   "outputs": [
    {
     "name": "stdout",
     "output_type": "stream",
     "text": [
      "(976072, 7)\n"
     ]
    },
    {
     "data": {
      "text/html": [
       "<div>\n",
       "<style scoped>\n",
       "    .dataframe tbody tr th:only-of-type {\n",
       "        vertical-align: middle;\n",
       "    }\n",
       "\n",
       "    .dataframe tbody tr th {\n",
       "        vertical-align: top;\n",
       "    }\n",
       "\n",
       "    .dataframe thead th {\n",
       "        text-align: right;\n",
       "    }\n",
       "</style>\n",
       "<table border=\"1\" class=\"dataframe\">\n",
       "  <thead>\n",
       "    <tr style=\"text-align: right;\">\n",
       "      <th></th>\n",
       "      <th>Protein</th>\n",
       "      <th>Peptied</th>\n",
       "      <th>charge</th>\n",
       "      <th>time</th>\n",
       "      <th>ionscore</th>\n",
       "      <th>corr_theo</th>\n",
       "      <th>corr_best_exp</th>\n",
       "    </tr>\n",
       "  </thead>\n",
       "  <tbody>\n",
       "    <tr>\n",
       "      <th>0</th>\n",
       "      <td>1433B_HUMAN</td>\n",
       "      <td>YDDMAAAMK</td>\n",
       "      <td>2</td>\n",
       "      <td>0</td>\n",
       "      <td>47.80</td>\n",
       "      <td>0.990404</td>\n",
       "      <td>-1000.0</td>\n",
       "    </tr>\n",
       "    <tr>\n",
       "      <th>1</th>\n",
       "      <td>1433B_HUMAN</td>\n",
       "      <td>YDDMAAAMK</td>\n",
       "      <td>2</td>\n",
       "      <td>1</td>\n",
       "      <td>42.99</td>\n",
       "      <td>0.992927</td>\n",
       "      <td>-1000.0</td>\n",
       "    </tr>\n",
       "    <tr>\n",
       "      <th>2</th>\n",
       "      <td>1433B_HUMAN</td>\n",
       "      <td>YDDMAAAMK</td>\n",
       "      <td>2</td>\n",
       "      <td>2</td>\n",
       "      <td>47.82</td>\n",
       "      <td>0.990979</td>\n",
       "      <td>-1000.0</td>\n",
       "    </tr>\n",
       "    <tr>\n",
       "      <th>3</th>\n",
       "      <td>1433B_HUMAN</td>\n",
       "      <td>YDDMAAAMK</td>\n",
       "      <td>2</td>\n",
       "      <td>3</td>\n",
       "      <td>42.82</td>\n",
       "      <td>0.992448</td>\n",
       "      <td>-1000.0</td>\n",
       "    </tr>\n",
       "    <tr>\n",
       "      <th>4</th>\n",
       "      <td>1433B_HUMAN</td>\n",
       "      <td>YDDMAAAMK</td>\n",
       "      <td>2</td>\n",
       "      <td>4</td>\n",
       "      <td>47.99</td>\n",
       "      <td>0.991099</td>\n",
       "      <td>-1000.0</td>\n",
       "    </tr>\n",
       "  </tbody>\n",
       "</table>\n",
       "</div>"
      ],
      "text/plain": [
       "       Protein    Peptied charge time  ionscore  corr_theo  corr_best_exp\n",
       "0  1433B_HUMAN  YDDMAAAMK      2    0     47.80   0.990404        -1000.0\n",
       "1  1433B_HUMAN  YDDMAAAMK      2    1     42.99   0.992927        -1000.0\n",
       "2  1433B_HUMAN  YDDMAAAMK      2    2     47.82   0.990979        -1000.0\n",
       "3  1433B_HUMAN  YDDMAAAMK      2    3     42.82   0.992448        -1000.0\n",
       "4  1433B_HUMAN  YDDMAAAMK      2    4     47.99   0.991099        -1000.0"
      ]
     },
     "execution_count": 2,
     "metadata": {},
     "output_type": "execute_result"
    }
   ],
   "source": [
    "\n",
    "path= 'data'\n",
    "filelist=os.listdir(path)       \n",
    "\n",
    "data=pd.DataFrame()\n",
    "for  p in filelist:\n",
    "    d=pd.read_csv(os.path.join(path,p)) \n",
    "    data=pd.concat([data,d])       \n",
    "\n",
    "print(data.shape)  \n",
    "data.head() "
   ]
  },
  {
   "cell_type": "code",
   "execution_count": 16,
   "id": "abb84ffb",
   "metadata": {},
   "outputs": [
    {
     "data": {
      "text/plain": [
       "(707913, 7)"
      ]
     },
     "execution_count": 16,
     "metadata": {},
     "output_type": "execute_result"
    }
   ],
   "source": [
    "nz=data[data.ionscore>0]\n",
    "nz.shape"
   ]
  },
  {
   "cell_type": "code",
   "execution_count": 17,
   "id": "5b7c8418",
   "metadata": {},
   "outputs": [
    {
     "data": {
      "text/html": [
       "<div>\n",
       "<style scoped>\n",
       "    .dataframe tbody tr th:only-of-type {\n",
       "        vertical-align: middle;\n",
       "    }\n",
       "\n",
       "    .dataframe tbody tr th {\n",
       "        vertical-align: top;\n",
       "    }\n",
       "\n",
       "    .dataframe thead th {\n",
       "        text-align: right;\n",
       "    }\n",
       "</style>\n",
       "<table border=\"1\" class=\"dataframe\">\n",
       "  <thead>\n",
       "    <tr style=\"text-align: right;\">\n",
       "      <th></th>\n",
       "      <th>ionscore</th>\n",
       "      <th>corr_theo</th>\n",
       "      <th>corr_best_exp</th>\n",
       "    </tr>\n",
       "  </thead>\n",
       "  <tbody>\n",
       "    <tr>\n",
       "      <th>count</th>\n",
       "      <td>707913.000000</td>\n",
       "      <td>707913.000000</td>\n",
       "      <td>707913.0</td>\n",
       "    </tr>\n",
       "    <tr>\n",
       "      <th>mean</th>\n",
       "      <td>45.849633</td>\n",
       "      <td>0.971743</td>\n",
       "      <td>-1000.0</td>\n",
       "    </tr>\n",
       "    <tr>\n",
       "      <th>std</th>\n",
       "      <td>21.225318</td>\n",
       "      <td>0.095640</td>\n",
       "      <td>0.0</td>\n",
       "    </tr>\n",
       "    <tr>\n",
       "      <th>min</th>\n",
       "      <td>13.930000</td>\n",
       "      <td>-0.917239</td>\n",
       "      <td>-1000.0</td>\n",
       "    </tr>\n",
       "    <tr>\n",
       "      <th>25%</th>\n",
       "      <td>29.340000</td>\n",
       "      <td>0.981703</td>\n",
       "      <td>-1000.0</td>\n",
       "    </tr>\n",
       "    <tr>\n",
       "      <th>50%</th>\n",
       "      <td>41.900000</td>\n",
       "      <td>0.993605</td>\n",
       "      <td>-1000.0</td>\n",
       "    </tr>\n",
       "    <tr>\n",
       "      <th>75%</th>\n",
       "      <td>58.170000</td>\n",
       "      <td>0.997664</td>\n",
       "      <td>-1000.0</td>\n",
       "    </tr>\n",
       "    <tr>\n",
       "      <th>max</th>\n",
       "      <td>183.520000</td>\n",
       "      <td>0.999998</td>\n",
       "      <td>-1000.0</td>\n",
       "    </tr>\n",
       "  </tbody>\n",
       "</table>\n",
       "</div>"
      ],
      "text/plain": [
       "            ionscore      corr_theo  corr_best_exp\n",
       "count  707913.000000  707913.000000       707913.0\n",
       "mean       45.849633       0.971743        -1000.0\n",
       "std        21.225318       0.095640            0.0\n",
       "min        13.930000      -0.917239        -1000.0\n",
       "25%        29.340000       0.981703        -1000.0\n",
       "50%        41.900000       0.993605        -1000.0\n",
       "75%        58.170000       0.997664        -1000.0\n",
       "max       183.520000       0.999998        -1000.0"
      ]
     },
     "execution_count": 17,
     "metadata": {},
     "output_type": "execute_result"
    }
   ],
   "source": [
    "nz.describe()"
   ]
  },
  {
   "cell_type": "code",
   "execution_count": 52,
   "id": "5ba626e5",
   "metadata": {},
   "outputs": [
    {
     "name": "stdout",
     "output_type": "stream",
     "text": [
      "(268159, 7)\n"
     ]
    }
   ],
   "source": [
    "z=data[data.ionscore==0]\n",
    "print(z.shape)"
   ]
  },
  {
   "cell_type": "code",
   "execution_count": 53,
   "id": "3196a635",
   "metadata": {},
   "outputs": [
    {
     "data": {
      "text/html": [
       "<div>\n",
       "<style scoped>\n",
       "    .dataframe tbody tr th:only-of-type {\n",
       "        vertical-align: middle;\n",
       "    }\n",
       "\n",
       "    .dataframe tbody tr th {\n",
       "        vertical-align: top;\n",
       "    }\n",
       "\n",
       "    .dataframe thead th {\n",
       "        text-align: right;\n",
       "    }\n",
       "</style>\n",
       "<table border=\"1\" class=\"dataframe\">\n",
       "  <thead>\n",
       "    <tr style=\"text-align: right;\">\n",
       "      <th></th>\n",
       "      <th>ionscore</th>\n",
       "      <th>corr_theo</th>\n",
       "      <th>corr_best_exp</th>\n",
       "    </tr>\n",
       "  </thead>\n",
       "  <tbody>\n",
       "    <tr>\n",
       "      <th>count</th>\n",
       "      <td>268159.0</td>\n",
       "      <td>268159.000000</td>\n",
       "      <td>268159.000000</td>\n",
       "    </tr>\n",
       "    <tr>\n",
       "      <th>mean</th>\n",
       "      <td>0.0</td>\n",
       "      <td>0.920798</td>\n",
       "      <td>0.931617</td>\n",
       "    </tr>\n",
       "    <tr>\n",
       "      <th>std</th>\n",
       "      <td>0.0</td>\n",
       "      <td>0.171626</td>\n",
       "      <td>0.146921</td>\n",
       "    </tr>\n",
       "    <tr>\n",
       "      <th>min</th>\n",
       "      <td>0.0</td>\n",
       "      <td>-0.967008</td>\n",
       "      <td>-0.968815</td>\n",
       "    </tr>\n",
       "    <tr>\n",
       "      <th>25%</th>\n",
       "      <td>0.0</td>\n",
       "      <td>0.932721</td>\n",
       "      <td>0.938324</td>\n",
       "    </tr>\n",
       "    <tr>\n",
       "      <th>50%</th>\n",
       "      <td>0.0</td>\n",
       "      <td>0.979624</td>\n",
       "      <td>0.980762</td>\n",
       "    </tr>\n",
       "    <tr>\n",
       "      <th>75%</th>\n",
       "      <td>0.0</td>\n",
       "      <td>0.993837</td>\n",
       "      <td>0.994315</td>\n",
       "    </tr>\n",
       "    <tr>\n",
       "      <th>max</th>\n",
       "      <td>0.0</td>\n",
       "      <td>0.999993</td>\n",
       "      <td>1.000000</td>\n",
       "    </tr>\n",
       "  </tbody>\n",
       "</table>\n",
       "</div>"
      ],
      "text/plain": [
       "       ionscore      corr_theo  corr_best_exp\n",
       "count  268159.0  268159.000000  268159.000000\n",
       "mean        0.0       0.920798       0.931617\n",
       "std         0.0       0.171626       0.146921\n",
       "min         0.0      -0.967008      -0.968815\n",
       "25%         0.0       0.932721       0.938324\n",
       "50%         0.0       0.979624       0.980762\n",
       "75%         0.0       0.993837       0.994315\n",
       "max         0.0       0.999993       1.000000"
      ]
     },
     "execution_count": 53,
     "metadata": {},
     "output_type": "execute_result"
    }
   ],
   "source": [
    "z.describe()"
   ]
  },
  {
   "cell_type": "code",
   "execution_count": 54,
   "id": "e67fcc40",
   "metadata": {},
   "outputs": [],
   "source": [
    "# sns.kdeplot(data=z, x=\"corr_theo\")"
   ]
  },
  {
   "cell_type": "code",
   "execution_count": 55,
   "id": "7a2ead61",
   "metadata": {
    "scrolled": false
   },
   "outputs": [
    {
     "data": {
      "image/png": "[encoded data removed]",
      "text/plain": [
       "<Figure size 432x288 with 1 Axes>"
      ]
     },
     "metadata": {
      "needs_background": "light"
     },
     "output_type": "display_data"
    },
    {
     "data": {
      "text/plain": [
       "<matplotlib.legend.Legend at 0x2daaf2b6d60>"
      ]
     },
     "execution_count": 55,
     "metadata": {},
     "output_type": "execute_result"
    },
    {
     "data": {
      "image/png": "[encoded data removed]",
      "text/plain": [
       "<Figure size 432x288 with 1 Axes>"
      ]
     },
     "metadata": {
      "needs_background": "light"
     },
     "output_type": "display_data"
    }
   ],
   "source": [
    "plt.rc(\"font\",size=14)\n",
    "plt.hist(z.corr_theo,bins=50,label=\"mean = {:.3f} \\nstd = {:.3f}\".format(z.corr_theo.mean(),z.corr_theo.std()))\n",
    "plt.xlabel(\"Pearson correlation coefficient\")\n",
    "plt.title(\"Theoretical vs zeroIonscore\")\n",
    "plt.xlim([0,1])\n",
    "plt.legend()\n",
    "\n",
    "plt.show()\n",
    "\n",
    "plt.hist(z.corr_best_exp,bins=50,label=\"mean = {:.3f} \\nstd = {:.3f}\".format(z.corr_best_exp.mean(),z.corr_best_exp.std()))\n",
    "plt.xlabel(\"Pearson correlation coefficient\")\n",
    "plt.title(\"Experimental vs zeroIonscore\")\n",
    "plt.xlim([0,1])\n",
    "plt.legend()"
   ]
  },
  {
   "cell_type": "code",
   "execution_count": 65,
   "id": "8e834f07",
   "metadata": {},
   "outputs": [
    {
     "name": "stderr",
     "output_type": "stream",
     "text": [
      "C:\\Users\\HMDEBE~1.UTM\\AppData\\Local\\Temp/ipykernel_31412/1462262934.py:1: SettingWithCopyWarning: \n",
      "A value is trying to be set on a copy of a slice from a DataFrame.\n",
      "Try using .loc[row_indexer,col_indexer] = value instead\n",
      "\n",
      "See the caveats in the documentation: https://pandas.pydata.org/pandas-docs/stable/user_guide/indexing.html#returning-a-view-versus-a-copy\n",
      "  z[\"Type\"]=[x.split(\"_\")[1] for x in z.Protein]\n"
     ]
    },
    {
     "data": {
      "text/html": [
       "<div>\n",
       "<style scoped>\n",
       "    .dataframe tbody tr th:only-of-type {\n",
       "        vertical-align: middle;\n",
       "    }\n",
       "\n",
       "    .dataframe tbody tr th {\n",
       "        vertical-align: top;\n",
       "    }\n",
       "\n",
       "    .dataframe thead th {\n",
       "        text-align: right;\n",
       "    }\n",
       "</style>\n",
       "<table border=\"1\" class=\"dataframe\">\n",
       "  <thead>\n",
       "    <tr style=\"text-align: right;\">\n",
       "      <th></th>\n",
       "      <th>Protein</th>\n",
       "      <th>Peptied</th>\n",
       "      <th>charge</th>\n",
       "      <th>time</th>\n",
       "      <th>ionscore</th>\n",
       "      <th>corr_theo</th>\n",
       "      <th>corr_best_exp</th>\n",
       "      <th>Type</th>\n",
       "    </tr>\n",
       "  </thead>\n",
       "  <tbody>\n",
       "    <tr>\n",
       "      <th>79</th>\n",
       "      <td>1433B_HUMAN</td>\n",
       "      <td>DSTLIMQLLR</td>\n",
       "      <td>2</td>\n",
       "      <td>1</td>\n",
       "      <td>0.0</td>\n",
       "      <td>0.999748</td>\n",
       "      <td>0.999953</td>\n",
       "      <td>HUMAN</td>\n",
       "    </tr>\n",
       "    <tr>\n",
       "      <th>117</th>\n",
       "      <td>1433B_HUMAN</td>\n",
       "      <td>DSTLImQLLR</td>\n",
       "      <td>2</td>\n",
       "      <td>30</td>\n",
       "      <td>0.0</td>\n",
       "      <td>0.859687</td>\n",
       "      <td>0.855809</td>\n",
       "      <td>HUMAN</td>\n",
       "    </tr>\n",
       "    <tr>\n",
       "      <th>169</th>\n",
       "      <td>1433B_HUMAN</td>\n",
       "      <td>IEAELQDIcNDVLELLDK</td>\n",
       "      <td>2</td>\n",
       "      <td>1</td>\n",
       "      <td>0.0</td>\n",
       "      <td>0.998095</td>\n",
       "      <td>0.998948</td>\n",
       "      <td>HUMAN</td>\n",
       "    </tr>\n",
       "    <tr>\n",
       "      <th>170</th>\n",
       "      <td>1433B_HUMAN</td>\n",
       "      <td>IEAELQDIcNDVLELLDK</td>\n",
       "      <td>2</td>\n",
       "      <td>2</td>\n",
       "      <td>0.0</td>\n",
       "      <td>0.992806</td>\n",
       "      <td>0.994877</td>\n",
       "      <td>HUMAN</td>\n",
       "    </tr>\n",
       "    <tr>\n",
       "      <th>171</th>\n",
       "      <td>1433B_HUMAN</td>\n",
       "      <td>IEAELQDIcNDVLELLDK</td>\n",
       "      <td>2</td>\n",
       "      <td>3</td>\n",
       "      <td>0.0</td>\n",
       "      <td>0.995255</td>\n",
       "      <td>0.996685</td>\n",
       "      <td>HUMAN</td>\n",
       "    </tr>\n",
       "    <tr>\n",
       "      <th>...</th>\n",
       "      <td>...</td>\n",
       "      <td>...</td>\n",
       "      <td>...</td>\n",
       "      <td>...</td>\n",
       "      <td>...</td>\n",
       "      <td>...</td>\n",
       "      <td>...</td>\n",
       "      <td>...</td>\n",
       "    </tr>\n",
       "    <tr>\n",
       "      <th>209</th>\n",
       "      <td>ZYX_HUMAN</td>\n",
       "      <td>SPSSSQPLPQVPAPAQSQTQFHVQPQPQPKPQVQLHVQSQTQPVSL...</td>\n",
       "      <td>5</td>\n",
       "      <td>25</td>\n",
       "      <td>0.0</td>\n",
       "      <td>0.928925</td>\n",
       "      <td>0.688833</td>\n",
       "      <td>HUMAN</td>\n",
       "    </tr>\n",
       "    <tr>\n",
       "      <th>210</th>\n",
       "      <td>ZYX_HUMAN</td>\n",
       "      <td>SPSSSQPLPQVPAPAQSQTQFHVQPQPQPKPQVQLHVQSQTQPVSL...</td>\n",
       "      <td>5</td>\n",
       "      <td>26</td>\n",
       "      <td>0.0</td>\n",
       "      <td>0.584462</td>\n",
       "      <td>0.579640</td>\n",
       "      <td>HUMAN</td>\n",
       "    </tr>\n",
       "    <tr>\n",
       "      <th>211</th>\n",
       "      <td>ZYX_HUMAN</td>\n",
       "      <td>SPSSSQPLPQVPAPAQSQTQFHVQPQPQPKPQVQLHVQSQTQPVSL...</td>\n",
       "      <td>5</td>\n",
       "      <td>31</td>\n",
       "      <td>0.0</td>\n",
       "      <td>0.644581</td>\n",
       "      <td>0.606684</td>\n",
       "      <td>HUMAN</td>\n",
       "    </tr>\n",
       "    <tr>\n",
       "      <th>212</th>\n",
       "      <td>ZYX_HUMAN</td>\n",
       "      <td>SPSSSQPLPQVPAPAQSQTQFHVQPQPQPKPQVQLHVQSQTQPVSL...</td>\n",
       "      <td>5</td>\n",
       "      <td>32</td>\n",
       "      <td>0.0</td>\n",
       "      <td>0.364155</td>\n",
       "      <td>0.404356</td>\n",
       "      <td>HUMAN</td>\n",
       "    </tr>\n",
       "    <tr>\n",
       "      <th>213</th>\n",
       "      <td>ZYX_HUMAN</td>\n",
       "      <td>SPSSSQPLPQVPAPAQSQTQFHVQPQPQPKPQVQLHVQSQTQPVSL...</td>\n",
       "      <td>5</td>\n",
       "      <td>35</td>\n",
       "      <td>0.0</td>\n",
       "      <td>0.568253</td>\n",
       "      <td>0.383735</td>\n",
       "      <td>HUMAN</td>\n",
       "    </tr>\n",
       "  </tbody>\n",
       "</table>\n",
       "<p>268159 rows × 8 columns</p>\n",
       "</div>"
      ],
      "text/plain": [
       "         Protein                                            Peptied charge  \\\n",
       "79   1433B_HUMAN                                         DSTLIMQLLR      2   \n",
       "117  1433B_HUMAN                                         DSTLImQLLR      2   \n",
       "169  1433B_HUMAN                                 IEAELQDIcNDVLELLDK      2   \n",
       "170  1433B_HUMAN                                 IEAELQDIcNDVLELLDK      2   \n",
       "171  1433B_HUMAN                                 IEAELQDIcNDVLELLDK      2   \n",
       "..           ...                                                ...    ...   \n",
       "209    ZYX_HUMAN  SPSSSQPLPQVPAPAQSQTQFHVQPQPQPKPQVQLHVQSQTQPVSL...      5   \n",
       "210    ZYX_HUMAN  SPSSSQPLPQVPAPAQSQTQFHVQPQPQPKPQVQLHVQSQTQPVSL...      5   \n",
       "211    ZYX_HUMAN  SPSSSQPLPQVPAPAQSQTQFHVQPQPQPKPQVQLHVQSQTQPVSL...      5   \n",
       "212    ZYX_HUMAN  SPSSSQPLPQVPAPAQSQTQFHVQPQPQPKPQVQLHVQSQTQPVSL...      5   \n",
       "213    ZYX_HUMAN  SPSSSQPLPQVPAPAQSQTQFHVQPQPQPKPQVQLHVQSQTQPVSL...      5   \n",
       "\n",
       "    time  ionscore  corr_theo  corr_best_exp   Type  \n",
       "79     1       0.0   0.999748       0.999953  HUMAN  \n",
       "117   30       0.0   0.859687       0.855809  HUMAN  \n",
       "169    1       0.0   0.998095       0.998948  HUMAN  \n",
       "170    2       0.0   0.992806       0.994877  HUMAN  \n",
       "171    3       0.0   0.995255       0.996685  HUMAN  \n",
       "..   ...       ...        ...            ...    ...  \n",
       "209   25       0.0   0.928925       0.688833  HUMAN  \n",
       "210   26       0.0   0.584462       0.579640  HUMAN  \n",
       "211   31       0.0   0.644581       0.606684  HUMAN  \n",
       "212   32       0.0   0.364155       0.404356  HUMAN  \n",
       "213   35       0.0   0.568253       0.383735  HUMAN  \n",
       "\n",
       "[268159 rows x 8 columns]"
      ]
     },
     "execution_count": 65,
     "metadata": {},
     "output_type": "execute_result"
    }
   ],
   "source": [
    "z[\"Type\"]=[x.split(\"_\")[1] for x in z.Protein]\n",
    "z"
   ]
  },
  {
   "cell_type": "code",
   "execution_count": 68,
   "id": "0b5fc7f5",
   "metadata": {
    "scrolled": false
   },
   "outputs": [
    {
     "data": {
      "image/png": "[encoded data removed]",
      "text/plain": [
       "<Figure size 432x288 with 1 Axes>"
      ]
     },
     "metadata": {
      "needs_background": "light"
     },
     "output_type": "display_data"
    },
    {
     "data": {
      "text/plain": [
       "<matplotlib.legend.Legend at 0x2dabed2d2b0>"
      ]
     },
     "execution_count": 68,
     "metadata": {},
     "output_type": "execute_result"
    },
    {
     "data": {
      "image/png": "[encoded data removed]",
      "text/plain": [
       "<Figure size 432x288 with 1 Axes>"
      ]
     },
     "metadata": {
      "needs_background": "light"
     },
     "output_type": "display_data"
    }
   ],
   "source": [
    "zh=z[z.Type==\"HUMAN\"]\n",
    "\n",
    "plt.rc(\"font\",size=14)\n",
    "plt.hist(zh.corr_theo,bins=50,label=\"mean = {:.3f} \\nstd = {:.3f}\".format(zh.corr_theo.mean(),zh.corr_theo.std()))\n",
    "plt.xlabel(\"Pearson correlation coefficient\")\n",
    "plt.title(\"Theoretical vs zeroIonscore\")\n",
    "plt.xlim([0,1])\n",
    "plt.legend()\n",
    "\n",
    "plt.show()\n",
    "\n",
    "plt.hist(zh.corr_best_exp,bins=50,label=\"mean = {:.3f} \\nstd = {:.3f}\".format(zh.corr_best_exp.mean(),zh.corr_best_exp.std()))\n",
    "plt.xlabel(\"Pearson correlation coefficient\")\n",
    "plt.title(\"Experimental vs zeroIonscore\")\n",
    "plt.xlim([0,1])\n",
    "plt.legend()"
   ]
  },
  {
   "cell_type": "code",
   "execution_count": 70,
   "id": "7ad2fdae",
   "metadata": {},
   "outputs": [
    {
     "data": {
      "image/png": "[encoded data removed]",
      "text/plain": [
       "<Figure size 432x288 with 1 Axes>"
      ]
     },
     "metadata": {
      "needs_background": "light"
     },
     "output_type": "display_data"
    },
    {
     "data": {
      "text/plain": [
       "<matplotlib.legend.Legend at 0x2dabc5ad070>"
      ]
     },
     "execution_count": 70,
     "metadata": {},
     "output_type": "execute_result"
    },
    {
     "data": {
      "image/png": "[encoded data removed]",
      "text/plain": [
       "<Figure size 432x288 with 1 Axes>"
      ]
     },
     "metadata": {
      "needs_background": "light"
     },
     "output_type": "display_data"
    }
   ],
   "source": [
    "yeast=z[z.Type==\"YEAST\"]\n",
    "\n",
    "plt.rc(\"font\",size=14)\n",
    "plt.hist(yeast.corr_theo,bins=50,label=\"mean = {:.3f} \\nstd = {:.3f}\".format(yeast.corr_theo.mean(),yeast.corr_theo.std()))\n",
    "plt.xlabel(\"Pearson correlation coefficient\")\n",
    "plt.title(\"Theoretical vs zeroIonscore\")\n",
    "plt.xlim([0,1])\n",
    "plt.legend()\n",
    "\n",
    "plt.show()\n",
    "\n",
    "plt.hist(yeast.corr_best_exp,bins=50,label=\"mean = {:.3f} \\nstd = {:.3f}\".format(yeast.corr_best_exp.mean(),yeast.corr_best_exp.std()))\n",
    "plt.xlabel(\"Pearson correlation coefficient\")\n",
    "plt.title(\"Experimental vs zeroIonscore\")\n",
    "plt.xlim([0,1])\n",
    "plt.legend()"
   ]
  },
  {
   "cell_type": "code",
   "execution_count": null,
   "id": "75e4326b",
   "metadata": {},
   "outputs": [],
   "source": []
  }
 ],
 "metadata": {
  "kernelspec": {
   "display_name": "Python 3 (ipykernel)",
   "language": "python",
   "name": "python3"
  },
  "language_info": {
   "codemirror_mode": {
    "name": "ipython",
    "version": 3
   },
   "file_extension": ".py",
   "mimetype": "text/x-python",
   "name": "python",
   "nbconvert_exporter": "python",
   "pygments_lexer": "ipython3",
   "version": "3.9.7"
  }
 },
 "nbformat": 4,
 "nbformat_minor": 5
}
