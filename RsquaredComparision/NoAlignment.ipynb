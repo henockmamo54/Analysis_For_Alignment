{
 "cells": [
  {
   "cell_type": "code",
   "execution_count": 1,
   "id": "0c706af2",
   "metadata": {},
   "outputs": [],
   "source": [
    "import os\n",
    "import pandas as pd\n",
    "import numpy as np\n",
    "from matplotlib import pyplot as plt"
   ]
  },
  {
   "cell_type": "markdown",
   "id": "43f8019a",
   "metadata": {},
   "source": [
    "Load data\n",
    "==="
   ]
  },
  {
   "cell_type": "code",
   "execution_count": 2,
   "id": "cd412875",
   "metadata": {},
   "outputs": [
    {
     "name": "stdout",
     "output_type": "stream",
     "text": [
      "(26488, 39)\n"
     ]
    }
   ],
   "source": [
    "path= '../data/no_alignment'\n",
    "filelist=os.listdir(path)\n",
    "filelist.remove(\"compare.csv\")\n",
    "proteinlist= []\n",
    "for p in filelist:\n",
    "    if p.endswith(\".csv\"):\n",
    "        proteinlist.append(p)            \n",
    "\n",
    "data=pd.DataFrame()\n",
    "for  p in proteinlist:\n",
    "    d=pd.read_csv(os.path.join(path,p))\n",
    "    d[\"Protein\"]=p.replace('.csv','')\n",
    "    data=pd.concat([data,d])       \n",
    "\n",
    "    data[\"diff\"]= abs(data[\"old_Rsquared\"] - data[\"new_Rsquared\"])    \n",
    "data=data[data.NDP >=4]\n",
    "print(data.shape)"
   ]
  },
  {
   "cell_type": "code",
   "execution_count": 4,
   "id": "c5a51752",
   "metadata": {},
   "outputs": [
    {
     "name": "stdout",
     "output_type": "stream",
     "text": [
      "Rsquared >= 95 \t Original d2ome = 0.24399728178797947\n",
      "Rsquared >= 90 \t Original d2ome = 0.37356538810027184\n",
      "Rsquared >= 80 \t Original d2ome = 0.4921473874962247\n",
      "Rsquared >= 75 \t Original d2ome = 0.529975838115373\n"
     ]
    }
   ],
   "source": [
    "print(\"Rsquared >= 95 \\t Original d2ome =\",data[data.old_Rsquared>=0.95].shape[0]/data.shape[0])\n",
    "print(\"Rsquared >= 90 \\t Original d2ome =\",data[data.old_Rsquared>=0.9].shape[0]/data.shape[0])\n",
    "print(\"Rsquared >= 80 \\t Original d2ome =\", data[data.old_Rsquared>=0.8].shape[0]/data.shape[0])\n",
    "print(\"Rsquared >= 75 \\t Original d2ome =\",data[data.old_Rsquared>=0.75].shape[0]/data.shape[0])"
   ]
  },
  {
   "cell_type": "code",
   "execution_count": 6,
   "id": "66d313b9",
   "metadata": {},
   "outputs": [
    {
     "name": "stdout",
     "output_type": "stream",
     "text": [
      "Rsquared >= 95 \t Original d2ome = 6463\n",
      "Rsquared >= 90 \t Original d2ome = 9895\n",
      "Rsquared >= 80 \t Original d2ome = 13036\n",
      "Rsquared >= 75 \t Original d2ome = 14038\n",
      "Rsquared <= 75 \t Original d2ome = 12450\n"
     ]
    }
   ],
   "source": [
    "print(\"Rsquared >= 95 \\t Original d2ome =\",data[data.old_Rsquared>=0.95].shape[0])\n",
    "print(\"Rsquared >= 90 \\t Original d2ome =\",data[data.old_Rsquared>=0.9].shape[0])\n",
    "print(\"Rsquared >= 80 \\t Original d2ome =\", data[data.old_Rsquared>=0.8].shape[0])\n",
    "print(\"Rsquared >= 75 \\t Original d2ome =\",data[data.old_Rsquared>=0.75].shape[0])\n",
    "print(\"Rsquared <= 75 \\t Original d2ome =\",data[data.old_Rsquared<=0.75].shape[0])"
   ]
  },
  {
   "cell_type": "code",
   "execution_count": null,
   "id": "0364eaa9",
   "metadata": {},
   "outputs": [],
   "source": []
  }
 ],
 "metadata": {
  "kernelspec": {
   "display_name": "Python 3 (ipykernel)",
   "language": "python",
   "name": "python3"
  },
  "language_info": {
   "codemirror_mode": {
    "name": "ipython",
    "version": 3
   },
   "file_extension": ".py",
   "mimetype": "text/x-python",
   "name": "python",
   "nbconvert_exporter": "python",
   "pygments_lexer": "ipython3",
   "version": "3.9.11"
  }
 },
 "nbformat": 4,
 "nbformat_minor": 5
}
