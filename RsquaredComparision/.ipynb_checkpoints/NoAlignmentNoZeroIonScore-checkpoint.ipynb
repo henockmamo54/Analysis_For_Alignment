{
 "cells": [
  {
   "cell_type": "code",
   "execution_count": 3,
   "id": "815f2f8f",
   "metadata": {},
   "outputs": [],
   "source": [
    "import os\n",
    "import pandas as pd\n",
    "import numpy as np\n",
    "from matplotlib import pyplot as plt"
   ]
  },
  {
   "cell_type": "markdown",
   "id": "e78c8e3d",
   "metadata": {},
   "source": [
    "Load data\n",
    "==="
   ]
  },
  {
   "cell_type": "code",
   "execution_count": 5,
   "id": "3dfb3d0c",
   "metadata": {},
   "outputs": [
    {
     "name": "stdout",
     "output_type": "stream",
     "text": [
      "(19932, 39)\n"
     ]
    }
   ],
   "source": [
    "path= '../data/no_alignment_noZeroIonScore'\n",
    "filelist=os.listdir(path)\n",
    "filelist.remove(\"compare.csv\")\n",
    "proteinlist= []\n",
    "for p in filelist:\n",
    "    if p.endswith(\".csv\"):\n",
    "        proteinlist.append(p)            \n",
    "\n",
    "data=pd.DataFrame()\n",
    "for  p in proteinlist:\n",
    "    d=pd.read_csv(os.path.join(path,p))\n",
    "    d[\"Protein\"]=p.replace('.csv','')\n",
    "    data=pd.concat([data,d])       \n",
    "\n",
    "    data[\"diff\"]= abs(data[\"old_Rsquared\"] - data[\"new_Rsquared\"])    \n",
    "data=data[data.NDP >=4]\n",
    "print(data.shape)"
   ]
  },
  {
   "cell_type": "code",
   "execution_count": 6,
   "id": "1fb2aefd",
   "metadata": {},
   "outputs": [
    {
     "name": "stdout",
     "output_type": "stream",
     "text": [
      "Rsquared >= 95 \t Original d2ome = 0.3070439494280554 \td2ome+ 0.5581477021874373\n",
      "Rsquared >= 90 \t Original d2ome = 0.45273931366646597 \td2ome+ 0.6730383303230986\n",
      "Rsquared >= 80 \t Original d2ome = 0.5825807746337548 \td2ome+ 0.7573249046758981\n",
      "Rsquared >= 75 \t Original d2ome = 0.618151715833835 \td2ome+ 0.7829620710415413\n"
     ]
    }
   ],
   "source": [
    "print(\"Rsquared >= 95 \\t Original d2ome =\",data[data.old_Rsquared>=0.95].shape[0]/data.shape[0], \"\\td2ome+\",data[data.new_Rsquared>=0.95].shape[0]/data.shape[0])\n",
    "print(\"Rsquared >= 90 \\t Original d2ome =\",data[data.old_Rsquared>=0.9].shape[0]/data.shape[0], \"\\td2ome+\",data[data.new_Rsquared>=0.9].shape[0]/data.shape[0])\n",
    "print(\"Rsquared >= 80 \\t Original d2ome =\", data[data.old_Rsquared>=0.8].shape[0]/data.shape[0],\"\\td2ome+\",data[data.new_Rsquared>=0.8].shape[0]/data.shape[0])\n",
    "print(\"Rsquared >= 75 \\t Original d2ome =\",data[data.old_Rsquared>=0.75].shape[0]/data.shape[0], \"\\td2ome+\",data[data.new_Rsquared>=0.75].shape[0]/data.shape[0])\n"
   ]
  },
  {
   "cell_type": "code",
   "execution_count": null,
   "id": "e8f28f66",
   "metadata": {},
   "outputs": [],
   "source": []
  }
 ],
 "metadata": {
  "kernelspec": {
   "display_name": "Python 3 (ipykernel)",
   "language": "python",
   "name": "python3"
  },
  "language_info": {
   "codemirror_mode": {
    "name": "ipython",
    "version": 3
   },
   "file_extension": ".py",
   "mimetype": "text/x-python",
   "name": "python",
   "nbconvert_exporter": "python",
   "pygments_lexer": "ipython3",
   "version": "3.9.11"
  }
 },
 "nbformat": 4,
 "nbformat_minor": 5
}
