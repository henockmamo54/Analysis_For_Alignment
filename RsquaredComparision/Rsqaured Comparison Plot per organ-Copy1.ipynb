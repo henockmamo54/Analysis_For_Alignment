{
 "cells": [
  {
   "cell_type": "code",
   "execution_count": 1,
   "id": "0c706af2",
   "metadata": {},
   "outputs": [],
   "source": [
    "import os\n",
    "import pandas as pd\n",
    "import numpy as np\n",
    "from matplotlib import pyplot as plt"
   ]
  },
  {
   "cell_type": "code",
   "execution_count": 2,
   "id": "8c510f0c",
   "metadata": {},
   "outputs": [],
   "source": [
    "# organ = \"liver\"\n",
    "organ = \"heart\"\n",
    "# organ = \"muscle\"\n",
    "# organ = \"kidney\""
   ]
  },
  {
   "cell_type": "markdown",
   "id": "43f8019a",
   "metadata": {},
   "source": [
    "Load data\n",
    "==="
   ]
  },
  {
   "cell_type": "code",
   "execution_count": 3,
   "id": "cd412875",
   "metadata": {},
   "outputs": [
    {
     "name": "stdout",
     "output_type": "stream",
     "text": [
      "(32477, 39)\n"
     ]
    }
   ],
   "source": [
    "path= '../data/alignment/'+organ\n",
    "filelist=os.listdir(path)\n",
    "filelist.remove(\"compare.csv\")\n",
    "proteinlist= []\n",
    "for p in filelist:\n",
    "    if p.endswith(\".csv\"):\n",
    "        proteinlist.append(p)            \n",
    "\n",
    "data=pd.DataFrame()\n",
    "for  p in proteinlist:\n",
    "    d=pd.read_csv(os.path.join(path,p))\n",
    "    d[\"Protein\"]=p.replace('.csv','')\n",
    "    data=pd.concat([data,d])       \n",
    "\n",
    "    data[\"diff\"]= abs(data[\"old_Rsquared\"] - data[\"new_Rsquared\"])    \n",
    "# data=data[data.NDP >=4]\n",
    "print(data.shape)"
   ]
  },
  {
   "cell_type": "code",
   "execution_count": 5,
   "id": "fef4c341",
   "metadata": {},
   "outputs": [
    {
     "data": {
      "text/html": [
       "<div>\n",
       "<style scoped>\n",
       "    .dataframe tbody tr th:only-of-type {\n",
       "        vertical-align: middle;\n",
       "    }\n",
       "\n",
       "    .dataframe tbody tr th {\n",
       "        vertical-align: top;\n",
       "    }\n",
       "\n",
       "    .dataframe thead th {\n",
       "        text-align: right;\n",
       "    }\n",
       "</style>\n",
       "<table border=\"1\" class=\"dataframe\">\n",
       "  <thead>\n",
       "    <tr style=\"text-align: right;\">\n",
       "      <th></th>\n",
       "      <th>proteinName</th>\n",
       "      <th>peptideSeq</th>\n",
       "      <th>charge</th>\n",
       "      <th>old_Rsquared</th>\n",
       "      <th>new_Rsquared</th>\n",
       "      <th>NDP</th>\n",
       "      <th>rateconstant</th>\n",
       "      <th>sigma</th>\n",
       "      <th>Abundance</th>\n",
       "      <th>MassToCharge</th>\n",
       "      <th>...</th>\n",
       "      <th>Protein</th>\n",
       "      <th>diff</th>\n",
       "      <th>protien</th>\n",
       "      <th>peptide</th>\n",
       "      <th>rsquared</th>\n",
       "      <th>mo</th>\n",
       "      <th>io_e</th>\n",
       "      <th>io_a1a0</th>\n",
       "      <th>io_a2a0</th>\n",
       "      <th>io_a2a1</th>\n",
       "    </tr>\n",
       "  </thead>\n",
       "  <tbody>\n",
       "    <tr>\n",
       "      <th>0</th>\n",
       "      <td>1433B_MOUSE</td>\n",
       "      <td>YDDMAAAMK</td>\n",
       "      <td>2</td>\n",
       "      <td>0.943504</td>\n",
       "      <td>0.982255</td>\n",
       "      <td>11.0</td>\n",
       "      <td>0.06718</td>\n",
       "      <td>0.006383</td>\n",
       "      <td>1.574851e+08</td>\n",
       "      <td>508.21478</td>\n",
       "      <td>...</td>\n",
       "      <td>1433B_MOUSE</td>\n",
       "      <td>0.038752</td>\n",
       "      <td>NaN</td>\n",
       "      <td>NaN</td>\n",
       "      <td>NaN</td>\n",
       "      <td>NaN</td>\n",
       "      <td>NaN</td>\n",
       "      <td>NaN</td>\n",
       "      <td>NaN</td>\n",
       "      <td>NaN</td>\n",
       "    </tr>\n",
       "    <tr>\n",
       "      <th>1</th>\n",
       "      <td>1433B_MOUSE</td>\n",
       "      <td>DSTLIMQLLR</td>\n",
       "      <td>2</td>\n",
       "      <td>0.991939</td>\n",
       "      <td>0.998637</td>\n",
       "      <td>11.0</td>\n",
       "      <td>0.07171</td>\n",
       "      <td>0.002174</td>\n",
       "      <td>7.236333e+08</td>\n",
       "      <td>595.33411</td>\n",
       "      <td>...</td>\n",
       "      <td>1433B_MOUSE</td>\n",
       "      <td>0.006698</td>\n",
       "      <td>NaN</td>\n",
       "      <td>NaN</td>\n",
       "      <td>NaN</td>\n",
       "      <td>NaN</td>\n",
       "      <td>NaN</td>\n",
       "      <td>NaN</td>\n",
       "      <td>NaN</td>\n",
       "      <td>NaN</td>\n",
       "    </tr>\n",
       "    <tr>\n",
       "      <th>2</th>\n",
       "      <td>1433B_MOUSE</td>\n",
       "      <td>DSTLImQLLR</td>\n",
       "      <td>2</td>\n",
       "      <td>-0.347515</td>\n",
       "      <td>0.584312</td>\n",
       "      <td>11.0</td>\n",
       "      <td>0.04887</td>\n",
       "      <td>0.012318</td>\n",
       "      <td>1.019383e+07</td>\n",
       "      <td>603.33154</td>\n",
       "      <td>...</td>\n",
       "      <td>1433B_MOUSE</td>\n",
       "      <td>0.931827</td>\n",
       "      <td>NaN</td>\n",
       "      <td>NaN</td>\n",
       "      <td>NaN</td>\n",
       "      <td>NaN</td>\n",
       "      <td>NaN</td>\n",
       "      <td>NaN</td>\n",
       "      <td>NaN</td>\n",
       "      <td>NaN</td>\n",
       "    </tr>\n",
       "    <tr>\n",
       "      <th>3</th>\n",
       "      <td>1433B_MOUSE</td>\n",
       "      <td>YLILNATQAESK</td>\n",
       "      <td>2</td>\n",
       "      <td>0.933552</td>\n",
       "      <td>0.940155</td>\n",
       "      <td>11.0</td>\n",
       "      <td>0.07775</td>\n",
       "      <td>0.007184</td>\n",
       "      <td>2.833884e+07</td>\n",
       "      <td>675.86682</td>\n",
       "      <td>...</td>\n",
       "      <td>1433B_MOUSE</td>\n",
       "      <td>0.006603</td>\n",
       "      <td>NaN</td>\n",
       "      <td>NaN</td>\n",
       "      <td>NaN</td>\n",
       "      <td>NaN</td>\n",
       "      <td>NaN</td>\n",
       "      <td>NaN</td>\n",
       "      <td>NaN</td>\n",
       "      <td>NaN</td>\n",
       "    </tr>\n",
       "    <tr>\n",
       "      <th>4</th>\n",
       "      <td>1433B_MOUSE</td>\n",
       "      <td>AVTEQGHELSNEER</td>\n",
       "      <td>2</td>\n",
       "      <td>0.868400</td>\n",
       "      <td>0.930949</td>\n",
       "      <td>11.0</td>\n",
       "      <td>0.08724</td>\n",
       "      <td>0.012955</td>\n",
       "      <td>1.094401e+06</td>\n",
       "      <td>799.87390</td>\n",
       "      <td>...</td>\n",
       "      <td>1433B_MOUSE</td>\n",
       "      <td>0.062549</td>\n",
       "      <td>NaN</td>\n",
       "      <td>NaN</td>\n",
       "      <td>NaN</td>\n",
       "      <td>NaN</td>\n",
       "      <td>NaN</td>\n",
       "      <td>NaN</td>\n",
       "      <td>NaN</td>\n",
       "      <td>NaN</td>\n",
       "    </tr>\n",
       "  </tbody>\n",
       "</table>\n",
       "<p>5 rows × 39 columns</p>\n",
       "</div>"
      ],
      "text/plain": [
       "   proteinName      peptideSeq charge  old_Rsquared  new_Rsquared   NDP  \\\n",
       "0  1433B_MOUSE       YDDMAAAMK      2      0.943504      0.982255  11.0   \n",
       "1  1433B_MOUSE      DSTLIMQLLR      2      0.991939      0.998637  11.0   \n",
       "2  1433B_MOUSE      DSTLImQLLR      2     -0.347515      0.584312  11.0   \n",
       "3  1433B_MOUSE    YLILNATQAESK      2      0.933552      0.940155  11.0   \n",
       "4  1433B_MOUSE  AVTEQGHELSNEER      2      0.868400      0.930949  11.0   \n",
       "\n",
       "  rateconstant     sigma     Abundance  MassToCharge  ...      Protein  \\\n",
       "0      0.06718  0.006383  1.574851e+08     508.21478  ...  1433B_MOUSE   \n",
       "1      0.07171  0.002174  7.236333e+08     595.33411  ...  1433B_MOUSE   \n",
       "2      0.04887  0.012318  1.019383e+07     603.33154  ...  1433B_MOUSE   \n",
       "3      0.07775  0.007184  2.833884e+07     675.86682  ...  1433B_MOUSE   \n",
       "4      0.08724  0.012955  1.094401e+06     799.87390  ...  1433B_MOUSE   \n",
       "\n",
       "       diff  protien  peptide rsquared   mo io_e io_a1a0  io_a2a0 io_a2a1  \n",
       "0  0.038752      NaN      NaN      NaN  NaN  NaN     NaN      NaN     NaN  \n",
       "1  0.006698      NaN      NaN      NaN  NaN  NaN     NaN      NaN     NaN  \n",
       "2  0.931827      NaN      NaN      NaN  NaN  NaN     NaN      NaN     NaN  \n",
       "3  0.006603      NaN      NaN      NaN  NaN  NaN     NaN      NaN     NaN  \n",
       "4  0.062549      NaN      NaN      NaN  NaN  NaN     NaN      NaN     NaN  \n",
       "\n",
       "[5 rows x 39 columns]"
      ]
     },
     "execution_count": 5,
     "metadata": {},
     "output_type": "execute_result"
    }
   ],
   "source": [
    "data_align=data\n",
    "data_align.head()"
   ]
  },
  {
   "cell_type": "code",
   "execution_count": 4,
   "id": "c5a51752",
   "metadata": {},
   "outputs": [
    {
     "name": "stdout",
     "output_type": "stream",
     "text": [
      "Rsquared >= 95 \t Original d2ome = 0.20361027020966477\n",
      "Rsquared >= 90 \t Original d2ome = 0.3534028478528983\n",
      "Rsquared >= 80 \t Original d2ome = 0.5082968942706582\n",
      "Rsquared >= 75 \t Original d2ome = 0.5538737526628545\n"
     ]
    }
   ],
   "source": [
    "print(\"Rsquared >= 95 \\t Original d2ome =\",data[data.old_Rsquared>=0.95].shape[0]/data.shape[0])\n",
    "print(\"Rsquared >= 90 \\t Original d2ome =\",data[data.old_Rsquared>=0.9].shape[0]/data.shape[0])\n",
    "print(\"Rsquared >= 80 \\t Original d2ome =\", data[data.old_Rsquared>=0.8].shape[0]/data.shape[0])\n",
    "print(\"Rsquared >= 75 \\t Original d2ome =\",data[data.old_Rsquared>=0.75].shape[0]/data.shape[0])\n"
   ]
  },
  {
   "cell_type": "code",
   "execution_count": 5,
   "id": "93765802",
   "metadata": {},
   "outputs": [
    {
     "name": "stdout",
     "output_type": "stream",
     "text": [
      "Rsquared >= 95 \t Original d2ome = 3632\n",
      "Rsquared >= 90 \t Original d2ome = 6304\n",
      "Rsquared >= 80 \t Original d2ome = 9067\n",
      "Rsquared >= 75 \t Original d2ome = 9880\n",
      "Rsquared <= 75 \t Original d2ome = 7958\n"
     ]
    }
   ],
   "source": [
    "print(\"Rsquared >= 95 \\t Original d2ome =\",data[data.old_Rsquared>=0.95].shape[0])\n",
    "print(\"Rsquared >= 90 \\t Original d2ome =\",data[data.old_Rsquared>=0.9].shape[0])\n",
    "print(\"Rsquared >= 80 \\t Original d2ome =\", data[data.old_Rsquared>=0.8].shape[0])\n",
    "print(\"Rsquared >= 75 \\t Original d2ome =\",data[data.old_Rsquared>=0.75].shape[0])\n",
    "print(\"Rsquared <= 75 \\t Original d2ome =\",data[data.old_Rsquared<=0.75].shape[0])"
   ]
  },
  {
   "cell_type": "code",
   "execution_count": 6,
   "id": "56eed597",
   "metadata": {},
   "outputs": [],
   "source": [
    "alignmentdata=[data[data.old_Rsquared>=0.95].shape[0],data[data.old_Rsquared>=0.9].shape[0], data[data.old_Rsquared>=0.8].shape[0],\n",
    "data[data.old_Rsquared>=0.75].shape[0],data[data.old_Rsquared<=0.75].shape[0]]"
   ]
  },
  {
   "cell_type": "code",
   "execution_count": 10,
   "id": "62a7ed90",
   "metadata": {},
   "outputs": [
    {
     "name": "stdout",
     "output_type": "stream",
     "text": [
      "(32477, 39)\n"
     ]
    }
   ],
   "source": [
    "path= '../data/no_alignment/'+organ\n",
    "filelist=os.listdir(path)\n",
    "filelist.remove(\"compare.csv\")\n",
    "proteinlist= []\n",
    "for p in filelist:\n",
    "    if p.endswith(\".csv\"):\n",
    "        proteinlist.append(p)            \n",
    "\n",
    "data=pd.DataFrame()\n",
    "for  p in proteinlist:\n",
    "    d=pd.read_csv(os.path.join(path,p))\n",
    "    d[\"Protein\"]=p.replace('.csv','')\n",
    "    data=pd.concat([data,d])       \n",
    "\n",
    "    data[\"diff\"]= abs(data[\"old_Rsquared\"] - data[\"new_Rsquared\"])    \n",
    "# data=data[data.NDP >=4]\n",
    "print(data.shape)"
   ]
  },
  {
   "cell_type": "code",
   "execution_count": 11,
   "id": "70afcc81",
   "metadata": {},
   "outputs": [
    {
     "data": {
      "text/html": [
       "<div>\n",
       "<style scoped>\n",
       "    .dataframe tbody tr th:only-of-type {\n",
       "        vertical-align: middle;\n",
       "    }\n",
       "\n",
       "    .dataframe tbody tr th {\n",
       "        vertical-align: top;\n",
       "    }\n",
       "\n",
       "    .dataframe thead th {\n",
       "        text-align: right;\n",
       "    }\n",
       "</style>\n",
       "<table border=\"1\" class=\"dataframe\">\n",
       "  <thead>\n",
       "    <tr style=\"text-align: right;\">\n",
       "      <th></th>\n",
       "      <th>proteinName</th>\n",
       "      <th>peptideSeq</th>\n",
       "      <th>charge</th>\n",
       "      <th>old_Rsquared</th>\n",
       "      <th>new_Rsquared</th>\n",
       "      <th>NDP</th>\n",
       "      <th>rateconstant</th>\n",
       "      <th>sigma</th>\n",
       "      <th>Abundance</th>\n",
       "      <th>MassToCharge</th>\n",
       "      <th>...</th>\n",
       "      <th>Protein</th>\n",
       "      <th>diff</th>\n",
       "      <th>protien</th>\n",
       "      <th>peptide</th>\n",
       "      <th>rsquared</th>\n",
       "      <th>mo</th>\n",
       "      <th>io_e</th>\n",
       "      <th>io_a1a0</th>\n",
       "      <th>io_a2a0</th>\n",
       "      <th>io_a2a1</th>\n",
       "    </tr>\n",
       "  </thead>\n",
       "  <tbody>\n",
       "    <tr>\n",
       "      <th>0</th>\n",
       "      <td>1433B_MOUSE</td>\n",
       "      <td>YDDMAAAMK</td>\n",
       "      <td>2</td>\n",
       "      <td>0.943504</td>\n",
       "      <td>0.982255</td>\n",
       "      <td>11.0</td>\n",
       "      <td>0.06718</td>\n",
       "      <td>0.006383</td>\n",
       "      <td>1.574851e+08</td>\n",
       "      <td>508.21478</td>\n",
       "      <td>...</td>\n",
       "      <td>1433B_MOUSE</td>\n",
       "      <td>0.038752</td>\n",
       "      <td>NaN</td>\n",
       "      <td>NaN</td>\n",
       "      <td>NaN</td>\n",
       "      <td>NaN</td>\n",
       "      <td>NaN</td>\n",
       "      <td>NaN</td>\n",
       "      <td>NaN</td>\n",
       "      <td>NaN</td>\n",
       "    </tr>\n",
       "    <tr>\n",
       "      <th>1</th>\n",
       "      <td>1433B_MOUSE</td>\n",
       "      <td>DSTLIMQLLR</td>\n",
       "      <td>2</td>\n",
       "      <td>0.991939</td>\n",
       "      <td>0.998637</td>\n",
       "      <td>11.0</td>\n",
       "      <td>0.07171</td>\n",
       "      <td>0.002174</td>\n",
       "      <td>7.236333e+08</td>\n",
       "      <td>595.33411</td>\n",
       "      <td>...</td>\n",
       "      <td>1433B_MOUSE</td>\n",
       "      <td>0.006698</td>\n",
       "      <td>NaN</td>\n",
       "      <td>NaN</td>\n",
       "      <td>NaN</td>\n",
       "      <td>NaN</td>\n",
       "      <td>NaN</td>\n",
       "      <td>NaN</td>\n",
       "      <td>NaN</td>\n",
       "      <td>NaN</td>\n",
       "    </tr>\n",
       "    <tr>\n",
       "      <th>2</th>\n",
       "      <td>1433B_MOUSE</td>\n",
       "      <td>DSTLImQLLR</td>\n",
       "      <td>2</td>\n",
       "      <td>-0.526569</td>\n",
       "      <td>0.423336</td>\n",
       "      <td>8.0</td>\n",
       "      <td>0.04887</td>\n",
       "      <td>0.016403</td>\n",
       "      <td>1.019383e+07</td>\n",
       "      <td>603.33154</td>\n",
       "      <td>...</td>\n",
       "      <td>1433B_MOUSE</td>\n",
       "      <td>0.949904</td>\n",
       "      <td>NaN</td>\n",
       "      <td>NaN</td>\n",
       "      <td>NaN</td>\n",
       "      <td>NaN</td>\n",
       "      <td>NaN</td>\n",
       "      <td>NaN</td>\n",
       "      <td>NaN</td>\n",
       "      <td>NaN</td>\n",
       "    </tr>\n",
       "    <tr>\n",
       "      <th>3</th>\n",
       "      <td>1433B_MOUSE</td>\n",
       "      <td>YLILNATQAESK</td>\n",
       "      <td>2</td>\n",
       "      <td>0.903625</td>\n",
       "      <td>0.914044</td>\n",
       "      <td>9.0</td>\n",
       "      <td>0.07775</td>\n",
       "      <td>0.007442</td>\n",
       "      <td>2.833884e+07</td>\n",
       "      <td>675.86682</td>\n",
       "      <td>...</td>\n",
       "      <td>1433B_MOUSE</td>\n",
       "      <td>0.010419</td>\n",
       "      <td>NaN</td>\n",
       "      <td>NaN</td>\n",
       "      <td>NaN</td>\n",
       "      <td>NaN</td>\n",
       "      <td>NaN</td>\n",
       "      <td>NaN</td>\n",
       "      <td>NaN</td>\n",
       "      <td>NaN</td>\n",
       "    </tr>\n",
       "    <tr>\n",
       "      <th>4</th>\n",
       "      <td>1433B_MOUSE</td>\n",
       "      <td>AVTEQGHELSNEER</td>\n",
       "      <td>2</td>\n",
       "      <td>0.909315</td>\n",
       "      <td>0.995533</td>\n",
       "      <td>6.0</td>\n",
       "      <td>0.08724</td>\n",
       "      <td>0.016362</td>\n",
       "      <td>1.094401e+06</td>\n",
       "      <td>799.87390</td>\n",
       "      <td>...</td>\n",
       "      <td>1433B_MOUSE</td>\n",
       "      <td>0.086218</td>\n",
       "      <td>NaN</td>\n",
       "      <td>NaN</td>\n",
       "      <td>NaN</td>\n",
       "      <td>NaN</td>\n",
       "      <td>NaN</td>\n",
       "      <td>NaN</td>\n",
       "      <td>NaN</td>\n",
       "      <td>NaN</td>\n",
       "    </tr>\n",
       "  </tbody>\n",
       "</table>\n",
       "<p>5 rows × 39 columns</p>\n",
       "</div>"
      ],
      "text/plain": [
       "   proteinName      peptideSeq charge  old_Rsquared  new_Rsquared   NDP  \\\n",
       "0  1433B_MOUSE       YDDMAAAMK      2      0.943504      0.982255  11.0   \n",
       "1  1433B_MOUSE      DSTLIMQLLR      2      0.991939      0.998637  11.0   \n",
       "2  1433B_MOUSE      DSTLImQLLR      2     -0.526569      0.423336   8.0   \n",
       "3  1433B_MOUSE    YLILNATQAESK      2      0.903625      0.914044   9.0   \n",
       "4  1433B_MOUSE  AVTEQGHELSNEER      2      0.909315      0.995533   6.0   \n",
       "\n",
       "  rateconstant     sigma     Abundance  MassToCharge  ...      Protein  \\\n",
       "0      0.06718  0.006383  1.574851e+08     508.21478  ...  1433B_MOUSE   \n",
       "1      0.07171  0.002174  7.236333e+08     595.33411  ...  1433B_MOUSE   \n",
       "2      0.04887  0.016403  1.019383e+07     603.33154  ...  1433B_MOUSE   \n",
       "3      0.07775  0.007442  2.833884e+07     675.86682  ...  1433B_MOUSE   \n",
       "4      0.08724  0.016362  1.094401e+06     799.87390  ...  1433B_MOUSE   \n",
       "\n",
       "       diff  protien  peptide rsquared   mo io_e io_a1a0  io_a2a0 io_a2a1  \n",
       "0  0.038752      NaN      NaN      NaN  NaN  NaN     NaN      NaN     NaN  \n",
       "1  0.006698      NaN      NaN      NaN  NaN  NaN     NaN      NaN     NaN  \n",
       "2  0.949904      NaN      NaN      NaN  NaN  NaN     NaN      NaN     NaN  \n",
       "3  0.010419      NaN      NaN      NaN  NaN  NaN     NaN      NaN     NaN  \n",
       "4  0.086218      NaN      NaN      NaN  NaN  NaN     NaN      NaN     NaN  \n",
       "\n",
       "[5 rows x 39 columns]"
      ]
     },
     "execution_count": 11,
     "metadata": {},
     "output_type": "execute_result"
    }
   ],
   "source": [
    "data_noalign=data\n",
    "data_noalign.head()"
   ]
  },
  {
   "cell_type": "code",
   "execution_count": 8,
   "id": "f31c28ed",
   "metadata": {},
   "outputs": [
    {
     "name": "stdout",
     "output_type": "stream",
     "text": [
      "Rsquared >= 95 \t Original d2ome = 3146\n",
      "Rsquared >= 90 \t Original d2ome = 5420\n",
      "Rsquared >= 80 \t Original d2ome = 7778\n",
      "Rsquared >= 75 \t Original d2ome = 8391\n",
      "Rsquared <= 75 \t Original d2ome = 5971\n"
     ]
    }
   ],
   "source": [
    "print(\"Rsquared >= 95 \\t Original d2ome =\",data[data.old_Rsquared>=0.95].shape[0])\n",
    "print(\"Rsquared >= 90 \\t Original d2ome =\",data[data.old_Rsquared>=0.9].shape[0])\n",
    "print(\"Rsquared >= 80 \\t Original d2ome =\", data[data.old_Rsquared>=0.8].shape[0])\n",
    "print(\"Rsquared >= 75 \\t Original d2ome =\",data[data.old_Rsquared>=0.75].shape[0])\n",
    "print(\"Rsquared <= 75 \\t Original d2ome =\",data[data.old_Rsquared<=0.75].shape[0])"
   ]
  },
  {
   "cell_type": "code",
   "execution_count": 9,
   "id": "212e66b0",
   "metadata": {},
   "outputs": [],
   "source": [
    "no_alignmentdata=[data[data.old_Rsquared>=0.95].shape[0],data[data.old_Rsquared>=0.9].shape[0], data[data.old_Rsquared>=0.8].shape[0],\n",
    "data[data.old_Rsquared>=0.75].shape[0],data[data.old_Rsquared<=0.75].shape[0]]"
   ]
  },
  {
   "cell_type": "code",
   "execution_count": 10,
   "id": "c3322649",
   "metadata": {},
   "outputs": [
    {
     "data": {
      "image/png": "[encoded data removed]",
      "text/plain": [
       "<Figure size 648x432 with 1 Axes>"
      ]
     },
     "metadata": {
      "needs_background": "light"
     },
     "output_type": "display_data"
    }
   ],
   "source": [
    "from matplotlib import pyplot as plt\n",
    "plt.figure(figsize=(9,6))\n",
    "bar_width = 0.25\n",
    "index=np.array([0,1,2,3])\n",
    "\n",
    "# '#3CAEA3','#F6D55C','#ED553B','#20639b'\n",
    "\n",
    "plt.bar(index,no_alignmentdata[:-1],bar_width, label= \"With out Alignment\" ,color='#ED553B') #ED553B\n",
    "# plt.bar(index+bar_width,noAlin,bar_width, label= \"With Zero Ionscore\",color='#F6D55C')\n",
    "plt.bar(index+bar_width,alignmentdata[:-1],bar_width, label=\"With Alignment\",color='#20639b')\n",
    "\n",
    "plt.xticks([0,1,2,3],[r'$R^2$ ≥ 95',r'$R^2$ ≥ 90',r'$R^2$ ≥ 80',r'$R^2$ ≥ 75'])\n",
    "plt.legend()\n",
    "\n",
    "plt.savefig(f\"{organ}.jpeg\",dpi=900, bbox_inches = \"tight\")"
   ]
  },
  {
   "cell_type": "code",
   "execution_count": 107,
   "id": "95cea1ef",
   "metadata": {},
   "outputs": [],
   "source": [
    "# data_align.columns"
   ]
  },
  {
   "cell_type": "code",
   "execution_count": 93,
   "id": "85e012e2",
   "metadata": {},
   "outputs": [
    {
     "data": {
      "image/png": "[encoded data removed]",
      "text/plain": [
       "<Figure size 648x432 with 1 Axes>"
      ]
     },
     "metadata": {
      "needs_background": "light"
     },
     "output_type": "display_data"
    }
   ],
   "source": [
    "temp_align=data_align.groupby(\"NDP\")[\"peptideSeq\"].count().reset_index()\n",
    "temp_noalign=data_noalign.groupby(\"NDP\")[\"peptideSeq\"].count()\n",
    "temp_merge=temp_align.merge(temp_noalign,on=\"NDP\")\n",
    "temp_merge.NDP=temp_merge.NDP.astype(int)\n",
    "temp_merge.set_index(\"NDP\")\n",
    "temp_merge=temp_merge[temp_merge.NDP>=2]\n",
    "temp_merge=temp_merge[[\"peptideSeq_x\",\"peptideSeq_y\"]]\n",
    "temp_merge.columns=[\"With Alignment\",\"Without Alignment\"]\n",
    "# ======================= Plot =======================\n",
    "plt.rc('font', size=14) \n",
    "temp_merge[[\"Without Alignment\",\"With Alignment\"]].plot(kind=\"bar\",width=0.9,rot=0,figsize=(9,6),\n",
    "                                                        color=[\"#ED553B\",\"#20639b\"])\n",
    "plt.ylabel(\"Number of peptides\")\n",
    "plt.xlabel(\"Number of data points\")\n",
    "\n",
    "plt.savefig(f\"NDP_liver_all.jpeg\",dpi=900, bbox_inches = \"tight\")"
   ]
  },
  {
   "cell_type": "code",
   "execution_count": 105,
   "id": "a862bb91",
   "metadata": {},
   "outputs": [],
   "source": [
    "# temp_align=data_align[data_align.old_Rsquared>=0.75].groupby(\"NDP\")[\"peptideSeq\"].count().reset_index()\n",
    "# temp_noalign=data_noalign[data_noalign.old_Rsquared>=0.75].groupby(\"NDP\")[\"peptideSeq\"].count()\n",
    "# temp_merge=temp_align.merge(temp_noalign,on=\"NDP\")\n",
    "# temp_merge.NDP=temp_merge.NDP.astype(int)\n",
    "# temp_merge.set_index(\"NDP\")\n",
    "# temp_merge=temp_merge[temp_merge.NDP>=2]\n",
    "# temp_merge=temp_merge[[\"peptideSeq_x\",\"peptideSeq_y\"]]\n",
    "# temp_merge.columns=[\"With Alignment\",\"Without Alignment\"]\n",
    "\n",
    "# # ====================================================\n",
    "# # ======================= Plot =======================\n",
    "# wa=int(temp_merge[[\"With Alignment\"]].sum())\n",
    "# woa=int(temp_merge[[\"Without Alignment\"]].sum())\n",
    "\n",
    "# plt.rc('font', size=14) \n",
    "# g=temp_merge[[\"Without Alignment\",\"With Alignment\"]].plot(kind=\"bar\",width=0.9,rot=0,figsize=(9,6),\n",
    "#                                                         color=[\"#ED553B\",\"#20639b\"])\n",
    "# plt.ylabel(\"Number of peptides\")\n",
    "# plt.xlabel(\"Number of data points\")\n",
    "# plt.title(f\"Without Alignment = {woa}, With Alignment = {wa}\")\n",
    "# g.set_xticklabels(range(2,13))\n",
    "# # plt.savefig(f\"NDP_liver.jpeg\",dpi=900, bbox_inches = \"tight\")"
   ]
  },
  {
   "cell_type": "code",
   "execution_count": 104,
   "id": "360ef34b",
   "metadata": {
    "scrolled": true
   },
   "outputs": [
    {
     "data": {
      "image/png": "[encoded data removed]",
      "text/plain": [
       "<Figure size 648x432 with 1 Axes>"
      ]
     },
     "metadata": {
      "needs_background": "light"
     },
     "output_type": "display_data"
    },
    {
     "data": {
      "image/png": "[encoded data removed]",
      "text/plain": [
       "<Figure size 648x432 with 1 Axes>"
      ]
     },
     "metadata": {
      "needs_background": "light"
     },
     "output_type": "display_data"
    },
    {
     "data": {
      "image/png": "[encoded data removed]",
      "text/plain": [
       "<Figure size 648x432 with 1 Axes>"
      ]
     },
     "metadata": {
      "needs_background": "light"
     },
     "output_type": "display_data"
    },
    {
     "data": {
      "image/png": "[encoded data removed]",
      "text/plain": [
       "<Figure size 648x432 with 1 Axes>"
      ]
     },
     "metadata": {
      "needs_background": "light"
     },
     "output_type": "display_data"
    }
   ],
   "source": [
    "rsq=[0.95,0.9,0.8,0.75]\n",
    "\n",
    "for r in rsq:\n",
    "    temp_align=data_align[data_align.old_Rsquared>=r].groupby(\"NDP\")[\"peptideSeq\"].count().reset_index()\n",
    "    temp_noalign=data_noalign[data_noalign.old_Rsquared>=r].groupby(\"NDP\")[\"peptideSeq\"].count()\n",
    "    temp_merge=temp_align.merge(temp_noalign,on=\"NDP\")\n",
    "    temp_merge.NDP=temp_merge.NDP.astype(int)\n",
    "    temp_merge.set_index(\"NDP\")\n",
    "    temp_merge=temp_merge[temp_merge.NDP>=2]\n",
    "    temp_merge=temp_merge[[\"peptideSeq_x\",\"peptideSeq_y\"]]\n",
    "    temp_merge.columns=[\"With Alignment\",\"Without Alignment\"]\n",
    "\n",
    "    # ====================================================\n",
    "    # ======================= Plot =======================\n",
    "    wa=int(temp_merge[[\"With Alignment\"]].sum())\n",
    "    woa=int(temp_merge[[\"Without Alignment\"]].sum())\n",
    "    \n",
    "    plt.rc('font', size=14) \n",
    "    g=temp_merge[[\"Without Alignment\",\"With Alignment\"]].plot(kind=\"bar\",width=0.9,rot=0,figsize=(9,6),\n",
    "                                                            color=[\"#ED553B\",\"#20639b\"])\n",
    "    plt.ylabel(\"Number of peptides\")\n",
    "    plt.xlabel(\"Number of data points\")\n",
    "    plt.title(\"$R{^2}$\"+f\" ≥ {r}, Without Alignment = {woa}, With Alignment = {wa}\")\n",
    "    g.set_xticklabels(range(2,13))\n",
    "\n",
    "    plt.savefig(f\"NDP_liver_{r}.jpeg\",dpi=900, bbox_inches = \"tight\")"
   ]
  },
  {
   "cell_type": "code",
   "execution_count": 86,
   "id": "29111eb4",
   "metadata": {},
   "outputs": [],
   "source": [
    "# print(temp_merge[[\"With Alignment\"]].sum())\n",
    "# print(temp_merge[[\"Without Alignment\"]].sum())"
   ]
  },
  {
   "cell_type": "code",
   "execution_count": 108,
   "id": "76b0de51",
   "metadata": {},
   "outputs": [
    {
     "data": {
      "text/plain": [
       "(32477, 39)"
      ]
     },
     "execution_count": 108,
     "metadata": {},
     "output_type": "execute_result"
    }
   ],
   "source": [
    "data_align.shape"
   ]
  },
  {
   "cell_type": "code",
   "execution_count": 109,
   "id": "c94412ea",
   "metadata": {},
   "outputs": [
    {
     "data": {
      "text/plain": [
       "(32477, 39)"
      ]
     },
     "execution_count": 109,
     "metadata": {},
     "output_type": "execute_result"
    }
   ],
   "source": [
    "data_noalign.shape"
   ]
  },
  {
   "cell_type": "code",
   "execution_count": 117,
   "id": "560bc644",
   "metadata": {},
   "outputs": [
    {
     "data": {
      "text/plain": [
       "count    17822.000000\n",
       "mean         0.041257\n",
       "std          0.201215\n",
       "min          0.000158\n",
       "25%          0.002903\n",
       "50%          0.005715\n",
       "75%          0.012713\n",
       "max          5.641889\n",
       "Name: sigma_old, dtype: float64"
      ]
     },
     "execution_count": 117,
     "metadata": {},
     "output_type": "execute_result"
    }
   ],
   "source": [
    "data_align[data_align.NDP>=4].sigma_old.describe()"
   ]
  },
  {
   "cell_type": "code",
   "execution_count": 118,
   "id": "1cc43cc9",
   "metadata": {},
   "outputs": [
    {
     "data": {
      "text/plain": [
       "count    14350.000000\n",
       "mean         0.263984\n",
       "std         19.278759\n",
       "min          0.000206\n",
       "25%          0.003061\n",
       "50%          0.006307\n",
       "75%          0.015633\n",
       "max       1824.350759\n",
       "Name: sigma_old, dtype: float64"
      ]
     },
     "execution_count": 118,
     "metadata": {},
     "output_type": "execute_result"
    }
   ],
   "source": [
    "data_noalign[data_noalign.NDP>=4].sigma_old.describe()"
   ]
  },
  {
   "cell_type": "code",
   "execution_count": 138,
   "id": "16d422ab",
   "metadata": {},
   "outputs": [],
   "source": [
    "# import seaborn as sns\n",
    "# sns.distplot(data_noalign[(data_noalign.NDP>=4) & (data_noalign.sigma_old < 1)].sigma_old.astype(float) , \n",
    "#               hist=False, kde=True, bins=5000, \n",
    "#              hist_kws={'edgecolor':'black'},\n",
    "#              kde_kws={'linewidth': 1,\"bw_adjust\":0.6},label=\"Actual\")\n",
    "\n",
    "# sns.distplot(data_align[(data_align.NDP>=4) & (data_align.sigma_old < 1)].sigma_old.astype(float) , \n",
    "#               hist=False, kde=True, bins=5000, \n",
    "#              hist_kws={'edgecolor':'black'},\n",
    "#              kde_kws={'linewidth': 1,\"bw_adjust\":0.6},label=\"Actual\")"
   ]
  },
  {
   "cell_type": "code",
   "execution_count": 142,
   "id": "5750004e",
   "metadata": {},
   "outputs": [
    {
     "data": {
      "text/plain": [
       "19.278087658782447"
      ]
     },
     "execution_count": 142,
     "metadata": {},
     "output_type": "execute_result"
    }
   ],
   "source": [
    "# data_noalign[data_noalign.sigma_old<0]\n",
    "np.std(data_noalign[data_noalign.NDP>=4].sigma_old)"
   ]
  },
  {
   "cell_type": "code",
   "execution_count": null,
   "id": "70eab7f0",
   "metadata": {},
   "outputs": [],
   "source": []
  }
 ],
 "metadata": {
  "kernelspec": {
   "display_name": "Python 3 (ipykernel)",
   "language": "python",
   "name": "python3"
  },
  "language_info": {
   "codemirror_mode": {
    "name": "ipython",
    "version": 3
   },
   "file_extension": ".py",
   "mimetype": "text/x-python",
   "name": "python",
   "nbconvert_exporter": "python",
   "pygments_lexer": "ipython3",
   "version": "3.9.11"
  }
 },
 "nbformat": 4,
 "nbformat_minor": 5
}
