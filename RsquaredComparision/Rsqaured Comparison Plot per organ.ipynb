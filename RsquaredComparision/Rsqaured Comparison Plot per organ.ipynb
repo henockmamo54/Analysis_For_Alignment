{
 "cells": [
  {
   "cell_type": "code",
   "execution_count": 1,
   "id": "0c706af2",
   "metadata": {},
   "outputs": [],
   "source": [
    "import os\n",
    "import pandas as pd\n",
    "import numpy as np\n",
    "from matplotlib import pyplot as plt"
   ]
  },
  {
   "cell_type": "code",
   "execution_count": 2,
   "id": "8c510f0c",
   "metadata": {},
   "outputs": [],
   "source": [
    "organ = \"liver\"\n",
    "# organ = \"heart\"\n",
    "# organ = \"muscle\"\n",
    "# organ = \"kidney\""
   ]
  },
  {
   "cell_type": "markdown",
   "id": "43f8019a",
   "metadata": {},
   "source": [
    "Load data\n",
    "==="
   ]
  },
  {
   "cell_type": "code",
   "execution_count": 3,
   "id": "cd412875",
   "metadata": {},
   "outputs": [
    {
     "name": "stdout",
     "output_type": "stream",
     "text": [
      "(27307, 31)\n",
      "(26486, 31)\n"
     ]
    }
   ],
   "source": [
    "path= '../data/alignment/'+organ\n",
    "filelist=os.listdir(path)\n",
    "filelist.remove(\"compare.csv\")\n",
    "proteinlist= []\n",
    "for p in filelist:\n",
    "    if p.endswith(\".csv\"):\n",
    "        proteinlist.append(p)            \n",
    "\n",
    "data=pd.DataFrame()\n",
    "for  p in proteinlist:\n",
    "    d=pd.read_csv(os.path.join(path,p))\n",
    "    d[\"Protein\"]=p.replace('.csv','')\n",
    "    data=pd.concat([data,d])       \n",
    "\n",
    "    data[\"diff\"]= abs(data[\"old_Rsquared\"] - data[\"new_Rsquared\"])    \n",
    "\n",
    "print(data.shape)\n",
    "data=data[data.NDP >=4]\n",
    "print(data.shape)"
   ]
  },
  {
   "cell_type": "code",
   "execution_count": 4,
   "id": "c5a51752",
   "metadata": {},
   "outputs": [
    {
     "name": "stdout",
     "output_type": "stream",
     "text": [
      "Rsquared >= 95 \t Original d2ome = 0.2565506305217851\n",
      "Rsquared >= 90 \t Original d2ome = 0.3880163105036623\n",
      "Rsquared >= 80 \t Original d2ome = 0.5111002038812957\n",
      "Rsquared >= 75 \t Original d2ome = 0.5483651740542174\n"
     ]
    }
   ],
   "source": [
    "print(\"Rsquared >= 95 \\t Original d2ome =\",data[data.old_Rsquared>=0.95].shape[0]/data.shape[0])\n",
    "print(\"Rsquared >= 90 \\t Original d2ome =\",data[data.old_Rsquared>=0.9].shape[0]/data.shape[0])\n",
    "print(\"Rsquared >= 80 \\t Original d2ome =\", data[data.old_Rsquared>=0.8].shape[0]/data.shape[0])\n",
    "print(\"Rsquared >= 75 \\t Original d2ome =\",data[data.old_Rsquared>=0.75].shape[0]/data.shape[0])\n"
   ]
  },
  {
   "cell_type": "code",
   "execution_count": 5,
   "id": "93765802",
   "metadata": {},
   "outputs": [
    {
     "name": "stdout",
     "output_type": "stream",
     "text": [
      "Rsquared >= 95 \t Original d2ome = 6795\n",
      "Rsquared >= 90 \t Original d2ome = 10277\n",
      "Rsquared >= 80 \t Original d2ome = 13537\n",
      "Rsquared >= 75 \t Original d2ome = 14524\n",
      "Rsquared <= 75 \t Original d2ome = 11962\n"
     ]
    }
   ],
   "source": [
    "print(\"Rsquared >= 95 \\t Original d2ome =\",data[data.old_Rsquared>=0.95].shape[0])\n",
    "print(\"Rsquared >= 90 \\t Original d2ome =\",data[data.old_Rsquared>=0.9].shape[0])\n",
    "print(\"Rsquared >= 80 \\t Original d2ome =\", data[data.old_Rsquared>=0.8].shape[0])\n",
    "print(\"Rsquared >= 75 \\t Original d2ome =\",data[data.old_Rsquared>=0.75].shape[0])\n",
    "print(\"Rsquared <= 75 \\t Original d2ome =\",data[data.old_Rsquared<=0.75].shape[0])"
   ]
  },
  {
   "cell_type": "code",
   "execution_count": 6,
   "id": "56eed597",
   "metadata": {},
   "outputs": [],
   "source": [
    "alignmentdata=[data[data.old_Rsquared>=0.95].shape[0],data[data.old_Rsquared>=0.9].shape[0], data[data.old_Rsquared>=0.8].shape[0],\n",
    "data[data.old_Rsquared>=0.75].shape[0],data[data.old_Rsquared<=0.75].shape[0]]"
   ]
  },
  {
   "cell_type": "code",
   "execution_count": 7,
   "id": "62a7ed90",
   "metadata": {},
   "outputs": [
    {
     "name": "stdout",
     "output_type": "stream",
     "text": [
      "(27307, 31)\n",
      "(19932, 31)\n"
     ]
    }
   ],
   "source": [
    "path= '../data/no_alignment/'+organ\n",
    "filelist=os.listdir(path)\n",
    "filelist.remove(\"compare.csv\")\n",
    "proteinlist= []\n",
    "for p in filelist:\n",
    "    if p.endswith(\".csv\"):\n",
    "        proteinlist.append(p)            \n",
    "\n",
    "data=pd.DataFrame()\n",
    "for  p in proteinlist:\n",
    "    d=pd.read_csv(os.path.join(path,p))\n",
    "    d[\"Protein\"]=p.replace('.csv','')\n",
    "    data=pd.concat([data,d])       \n",
    "\n",
    "    data[\"diff\"]= abs(data[\"old_Rsquared\"] - data[\"new_Rsquared\"])    \n",
    "\n",
    "print(data.shape)\n",
    "data=data[data.NDP >=4]\n",
    "print(data.shape)"
   ]
  },
  {
   "cell_type": "code",
   "execution_count": 8,
   "id": "f31c28ed",
   "metadata": {},
   "outputs": [
    {
     "name": "stdout",
     "output_type": "stream",
     "text": [
      "Rsquared >= 95 \t Original d2ome = 6120\n",
      "Rsquared >= 90 \t Original d2ome = 9024\n",
      "Rsquared >= 80 \t Original d2ome = 11612\n",
      "Rsquared >= 75 \t Original d2ome = 12321\n",
      "Rsquared <= 75 \t Original d2ome = 7611\n"
     ]
    }
   ],
   "source": [
    "print(\"Rsquared >= 95 \\t Original d2ome =\",data[data.old_Rsquared>=0.95].shape[0])\n",
    "print(\"Rsquared >= 90 \\t Original d2ome =\",data[data.old_Rsquared>=0.9].shape[0])\n",
    "print(\"Rsquared >= 80 \\t Original d2ome =\", data[data.old_Rsquared>=0.8].shape[0])\n",
    "print(\"Rsquared >= 75 \\t Original d2ome =\",data[data.old_Rsquared>=0.75].shape[0])\n",
    "print(\"Rsquared <= 75 \\t Original d2ome =\",data[data.old_Rsquared<=0.75].shape[0])"
   ]
  },
  {
   "cell_type": "code",
   "execution_count": 9,
   "id": "212e66b0",
   "metadata": {},
   "outputs": [],
   "source": [
    "no_alignmentdata=[data[data.old_Rsquared>=0.95].shape[0],data[data.old_Rsquared>=0.9].shape[0], data[data.old_Rsquared>=0.8].shape[0],\n",
    "data[data.old_Rsquared>=0.75].shape[0],data[data.old_Rsquared<=0.75].shape[0]]"
   ]
  },
  {
   "cell_type": "code",
   "execution_count": 10,
   "id": "c3322649",
   "metadata": {},
   "outputs": [
    {
     "data": {
      "image/png": "[encoded data removed]",
      "text/plain": [
       "<Figure size 648x432 with 1 Axes>"
      ]
     },
     "metadata": {
      "needs_background": "light"
     },
     "output_type": "display_data"
    }
   ],
   "source": [
    "from matplotlib import pyplot as plt\n",
    "plt.figure(figsize=(9,6))\n",
    "bar_width = 0.25\n",
    "index=np.array([0,1,2,3])\n",
    "\n",
    "# '#3CAEA3','#F6D55C','#ED553B','#20639b'\n",
    "\n",
    "plt.bar(index,no_alignmentdata[:-1],bar_width, label= \"Without Alignment\" ,color='#ED553B') #ED553B\n",
    "# plt.bar(index+bar_width,noAlin,bar_width, label= \"With Zero Ionscore\",color='#F6D55C')\n",
    "plt.bar(index+bar_width,alignmentdata[:-1],bar_width, label=\"With Alignment\",color='#20639b')\n",
    "\n",
    "plt.xticks([0,1,2,3],[r'$R^2$ ≥ 95',r'$R^2$ ≥ 90',r'$R^2$ ≥ 80',r'$R^2$ ≥ 75'])\n",
    "plt.legend()\n",
    "\n",
    "plt.savefig(f\"{organ}.jpeg\",dpi=900, bbox_inches = \"tight\")"
   ]
  },
  {
   "cell_type": "code",
   "execution_count": 11,
   "id": "95cea1ef",
   "metadata": {},
   "outputs": [
    {
     "data": {
      "text/plain": [
       "array([ 6120,  9024, 11612, 12321,  7611])"
      ]
     },
     "execution_count": 11,
     "metadata": {},
     "output_type": "execute_result"
    }
   ],
   "source": [
    "np.array(no_alignmentdata)#/27307"
   ]
  },
  {
   "cell_type": "code",
   "execution_count": 12,
   "id": "aaff7769",
   "metadata": {},
   "outputs": [
    {
     "data": {
      "text/plain": [
       "array([ 6795, 10277, 13537, 14524, 11962])"
      ]
     },
     "execution_count": 12,
     "metadata": {},
     "output_type": "execute_result"
    }
   ],
   "source": [
    "np.array(alignmentdata)#/27307"
   ]
  },
  {
   "cell_type": "code",
   "execution_count": 13,
   "id": "0551fb75",
   "metadata": {},
   "outputs": [
    {
     "data": {
      "text/plain": [
       "11.029411764705882"
      ]
     },
     "execution_count": 13,
     "metadata": {},
     "output_type": "execute_result"
    }
   ],
   "source": [
    "100*(6795-6120)/6120"
   ]
  },
  {
   "cell_type": "code",
   "execution_count": null,
   "id": "d6633519",
   "metadata": {},
   "outputs": [],
   "source": []
  }
 ],
 "metadata": {
  "kernelspec": {
   "display_name": "Python 3 (ipykernel)",
   "language": "python",
   "name": "python3"
  },
  "language_info": {
   "codemirror_mode": {
    "name": "ipython",
    "version": 3
   },
   "file_extension": ".py",
   "mimetype": "text/x-python",
   "name": "python",
   "nbconvert_exporter": "python",
   "pygments_lexer": "ipython3",
   "version": "3.9.7"
  }
 },
 "nbformat": 4,
 "nbformat_minor": 5
}
