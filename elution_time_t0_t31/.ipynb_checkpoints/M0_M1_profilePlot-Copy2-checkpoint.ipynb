{
 "cells": [
  {
   "cell_type": "code",
   "execution_count": 1,
   "id": "97634336",
   "metadata": {},
   "outputs": [],
   "source": [
    "import numpy as np\n",
    "import pandas as pd\n",
    "import os\n",
    "import seaborn as sns\n",
    "from matplotlib import pyplot as plt\n",
    "\n",
    "import warnings\n",
    "\n",
    "warnings.simplefilter(\"ignore\")\n",
    "import seaborn as sns"
   ]
  },
  {
   "cell_type": "code",
   "execution_count": 2,
   "id": "ecc2887a",
   "metadata": {},
   "outputs": [],
   "source": [
    "def smoothfunc(array):\n",
    "    res=[array[0]]\n",
    "    \n",
    "    for i in range(1,len(array)-1):\n",
    "        res.append(0.4*array[i] + 0.25*(array[i-1]+array[i+1]))\n",
    "    res.append(array[-1])\n",
    "    return res\n",
    "    "
   ]
  },
  {
   "cell_type": "code",
   "execution_count": 3,
   "id": "5b9b605a",
   "metadata": {},
   "outputs": [],
   "source": [
    "def find_nearest(a, a0):\n",
    "    a=np.array(a)\n",
    "    \"Element in nd array `a` closest to the scalar value `a0`\"\n",
    "    idx = np.abs(a - a0).argmin()\n",
    "    return idx #a.flat[idx]"
   ]
  },
  {
   "cell_type": "code",
   "execution_count": 4,
   "id": "29810d56",
   "metadata": {},
   "outputs": [],
   "source": [
    "# smoothfunc([4,8,16,12,8,4])\n",
    "# find_nearest([4,8,16,12,8,4,17],15)"
   ]
  },
  {
   "cell_type": "code",
   "execution_count": null,
   "id": "c8117dd7",
   "metadata": {},
   "outputs": [],
   "source": []
  },
  {
   "cell_type": "code",
   "execution_count": 66,
   "id": "b8de41e9",
   "metadata": {
    "scrolled": false
   },
   "outputs": [
    {
     "name": "stdout",
     "output_type": "stream",
     "text": [
      "============================================////======================\n",
      "============================================////======================\n",
      "profileplot_AL1L1_MOUSE.csv\n",
      "============================================////======================\n",
      "============================================////======================\n",
      "**********profileplot_AL1L1_MOUSE.csv-ILPNVPEVEDSTDFFK _ 2***************\n",
      "**************************13*************************************************\n",
      "**************************9************************************************\n",
      "*********************************6,7******************************************\n",
      "***************************************************************************\n",
      "16\n",
      "19\n",
      "21\n",
      "**********profileplot_AL1L1_MOUSE.csv-GASAINWTLIHGDKK _ 3***************\n",
      "**************************15*************************************************\n",
      "**************************14************************************************\n",
      "*********************************7,7******************************************\n",
      "***************************************************************************\n",
      "31\n",
      "============================================////======================\n",
      "============================================////======================\n",
      "profileplot_ASSY_MOUSE.csv\n",
      "============================================////======================\n",
      "============================================////======================\n",
      "3\n",
      "**********profileplot_ASSY_MOUSE.csv-FAELVYTGFWHSPEcEFVR _ 2***************\n",
      "**************************14*************************************************\n",
      "**************************13************************************************\n",
      "*********************************5,5******************************************\n",
      "***************************************************************************\n",
      "19\n",
      "20\n",
      "21\n",
      "============================================////======================\n",
      "============================================////======================\n",
      "profileplot_ATPB_MOUSE.csv\n",
      "============================================////======================\n",
      "============================================////======================\n",
      "8\n",
      "12\n",
      "23\n",
      "24\n",
      "27\n",
      "30\n",
      "32\n",
      "============================================////======================\n",
      "============================================////======================\n",
      "profileplot_CLH1_MOUSE.csv\n",
      "============================================////======================\n",
      "============================================////======================\n",
      "============================================////======================\n",
      "============================================////======================\n",
      "profileplot_CPSM_MOUSE.csv\n",
      "============================================////======================\n",
      "============================================////======================\n",
      "48\n",
      "53\n",
      "**********profileplot_CPSM_MOUSE.csv-VISHAISEHVEDAGVHSGDATLMLPTQTISQGAIEK _ 4***************\n",
      "**************************9*************************************************\n",
      "**************************8************************************************\n",
      "*********************************3,2******************************************\n",
      "***************************************************************************\n",
      "86\n",
      "**********profileplot_CPSM_MOUSE.csv-ILDIYHQEAcNGcIISVGGQIPN _ 3***************\n",
      "**************************11*************************************************\n",
      "**************************12************************************************\n",
      "*********************************2,2******************************************\n",
      "***************************************************************************\n",
      "99\n",
      "106\n",
      "108\n",
      "**********profileplot_CPSM_MOUSE.csv-TSAcFEPSLDYMVTK _ 3***************\n",
      "**************************14*************************************************\n",
      "**************************13************************************************\n",
      "*********************************4,3******************************************\n",
      "***************************************************************************\n",
      "============================================////======================\n",
      "============================================////======================\n",
      "profileplot_DHE3_MOUSE.csv\n",
      "============================================////======================\n",
      "============================================////======================\n",
      "**********profileplot_DHE3_MOUSE.csv-EMSWIADTYASTIGHYDINAHAcVTGK _ 4***************\n",
      "**************************12*************************************************\n",
      "**************************10************************************************\n",
      "*********************************7,7******************************************\n",
      "***************************************************************************\n",
      "11\n",
      "13\n",
      "profileplot_DHE3_MOUSE.csv 25  PcNHVLSLSFPIR_3 [RT diff = 2.96] => 11\n"
     ]
    },
    {
     "data": {
      "image/png": "[encoded data removed]",
      "text/plain": [
       "<Figure size 720x432 with 1 Axes>"
      ]
     },
     "metadata": {
      "needs_background": "light"
     },
     "output_type": "display_data"
    },
    {
     "name": "stdout",
     "output_type": "stream",
     "text": [
      "============================================////======================\n",
      "============================================////======================\n",
      "profileplot_FAS_MOUSE.csv\n",
      "============================================////======================\n",
      "============================================////======================\n",
      "48\n",
      "53\n",
      "**********profileplot_FAS_MOUSE.csv-VISHAISEHVEDAGVHSGDATLMLPTQTISQGAIEK _ 4***************\n",
      "**************************9*************************************************\n",
      "**************************8************************************************\n",
      "*********************************3,2******************************************\n",
      "***************************************************************************\n",
      "86\n",
      "**********profileplot_FAS_MOUSE.csv-ILDIYHQEAcNGcIISVGGQIPN _ 3***************\n",
      "**************************11*************************************************\n",
      "**************************12************************************************\n",
      "*********************************2,2******************************************\n",
      "***************************************************************************\n",
      "99\n",
      "106\n",
      "108\n",
      "**********profileplot_FAS_MOUSE.csv-TSAcFEPSLDYMVTK _ 3***************\n",
      "**************************14*************************************************\n",
      "**************************13************************************************\n",
      "*********************************4,3******************************************\n",
      "***************************************************************************\n",
      "============================================////======================\n",
      "============================================////======================\n",
      "profileplot_PYC_MOUSE.csv\n",
      "============================================////======================\n",
      "============================================////======================\n",
      "5\n",
      "6\n",
      "22\n",
      "25\n",
      "35\n",
      "============================================////======================\n",
      "============================================////======================\n",
      "profileplot_PYGL_MOUSE.csv\n",
      "============================================////======================\n",
      "============================================////======================\n",
      "4\n",
      "10\n",
      "13\n",
      "============================================////======================\n",
      "============================================////======================\n",
      "profileplot_SARDH_MOUSE.csv\n",
      "============================================////======================\n",
      "============================================////======================\n",
      "**********profileplot_SARDH_MOUSE.csv-IEGIQNMPNVR _ 2***************\n",
      "**************************12*************************************************\n",
      "**************************9************************************************\n",
      "*********************************4,4******************************************\n",
      "***************************************************************************\n",
      "11\n",
      "17\n",
      "**********profileplot_SARDH_MOUSE.csv-VAAVETEHGSIQTPcVVNcAGVWASK _ 3***************\n",
      "**************************11*************************************************\n",
      "**************************10************************************************\n",
      "*********************************5,5******************************************\n",
      "***************************************************************************\n",
      "28\n"
     ]
    }
   ],
   "source": [
    "# data=pd.read_csv(\"C:\\\\Workplace\\\\C++\\\\d2ome_v2\\\\v2\\\\v2\\\\bin\\\\Debug\\\\profileplot.csv\")\n",
    "\n",
    "RT_dif=[]\n",
    "RT_win=[]\n",
    "\n",
    "RT_hop=[]\n",
    "RT_peakcount=[]\n",
    "\n",
    "protiens=os.listdir(\"profileplot/\")\n",
    "for protein in protiens:\n",
    "    data=pd.read_csv(\"profileplot/\"+protein)\n",
    "    \n",
    "    print(\"============================================////======================\")\n",
    "    print(\"============================================////======================\")\n",
    "    print(protein)\n",
    "    print(\"============================================////======================\")\n",
    "    print(\"============================================////======================\")\n",
    "    \n",
    "    for index in range(data.shape[0]):\n",
    "    \n",
    "        try:\n",
    "#             plt.figure(figsize=(7,4))\n",
    "\n",
    "            rt_0=[float(x) for x in data.loc[index,\"time_m0\"].split(\"|\") if len(x)>0]\n",
    "            int_0=[float(x) for x in data.loc[index,\"intensity_m0\"].split(\"|\") if len(x)>0]  \n",
    "            int_0=smoothfunc(int_0)\n",
    "            \n",
    "            rt_1=[float(x) for x in data.loc[index,\"time_m1\"].split(\"|\") if len(x)>0]\n",
    "            int_1=[float(x) for x in data.loc[index,\"intensity_m1\"].split(\"|\") if len(x)>0]\n",
    "            int_1=smoothfunc(int_1)\n",
    "\n",
    "            min_count=min( len(rt_0),len(rt_1))\n",
    "            max_count=max(len(rt_0),len(rt_1))\n",
    "            RT_diff=60*abs(rt_1[int_1.index(max(int_1))] -rt_0[int_0.index(max(int_0))])\n",
    "            \n",
    "            maxindex_1=int_1.index(max(int_1))\n",
    "            maxindex_0=find_nearest(rt_1,rt_0[int_0.index(max(int_0))])\n",
    "            \n",
    "#             RT_peakcount.append(len)\n",
    "            \n",
    "\n",
    "            \n",
    "            #filter profile which doesn't look good spectrum profile\n",
    "            if min_count < 8 or max_count>=16 :\n",
    "                continue\n",
    "                \n",
    "            if protein ==\"profileplot_DHE3_MOUSE.csv\":\n",
    "                if ((data.loc[index,\"peptied\"] == \"VYEGSILEADcDILIPAASEK\" and data.loc[index,\"Charge\"]==3)\n",
    "                   or (data.loc[index,\"peptied\"] == \"IIAEGANGPTTPEADKIFLER\" and data.loc[index,\"Charge\"]==3) \n",
    "                   ):\n",
    "                    continue\n",
    "            if protein ==\"profileplot_ASSY_MOUSE.csv\":\n",
    "                if data.loc[index,\"peptied\"] == \"HAHLDIEAFTMDR\" and data.loc[index,\"Charge\"]==2:\n",
    "                    continue\n",
    "                    \n",
    "            if protein ==\"profileplot_CLH1_MOUSE.csv\":\n",
    "                if ((data.loc[index,\"peptied\"] == \"AHMGMFTELAILYSK\" and data.loc[index,\"Charge\"]==3) or\n",
    "                   (data.loc[index,\"peptied\"] == \"LASTLVHLGEYQAAVDGAR\" and data.loc[index,\"Charge\"]==3)\n",
    "                   ):\n",
    "                    continue\n",
    "                    \n",
    "            if protein ==\"profileplot_SARDH_MOUSE.csv\":\n",
    "                if ((data.loc[index,\"peptied\"] == \"VPLVAMHHAYVVTER\" and data.loc[index,\"Charge\"]==4) or\n",
    "                   (data.loc[index,\"peptied\"] == \"MLGGGcGQELAHWIVHGRPEK\" and data.loc[index,\"Charge\"]==3)\n",
    "                   ):\n",
    "                    continue\n",
    "                    \n",
    "            if protein ==\"profileplot_CPSM_MOUSE.csv\":\n",
    "                if ((data.loc[index,\"peptied\"] == \"LFATEATSDWLNANNVPATPVAWPSQEGQNPSLSSIR\" and data.loc[index,\"Charge\"]==4) \n",
    "                    \n",
    "                   ):\n",
    "                    continue\n",
    "                    \n",
    "            if protein ==\"profileplot_PYGL_MOUSE.csv\":\n",
    "                if ((data.loc[index,\"peptied\"] == \"DFSELEPDKFQNK\" and data.loc[index,\"Charge\"]==2) or\n",
    "                   (data.loc[index,\"peptied\"] == \"LVIDQIDNGFFSPNQPDLFK\" and data.loc[index,\"Charge\"]==3) or \n",
    "                    (data.loc[index,\"peptied\"] == \"GIVGVENVAELKK\" and data.loc[index,\"Charge\"]==3) or \n",
    "                    (data.loc[index,\"peptied\"] == \"LKQEYFVVAATLQDVIR\" and data.loc[index,\"Charge\"]==3)  \n",
    "                   ):\n",
    "                    continue\n",
    "                    \n",
    "            if protein ==\"profileplot_PYC_MOUSE.csv\":\n",
    "                if ((data.loc[index,\"peptied\"] == \"INGcAIQcR\" and data.loc[index,\"Charge\"]==2) or\n",
    "                   (data.loc[index,\"peptied\"] == \"AYSEALAAFGNGALFVEK\" and data.loc[index,\"Charge\"]==2) or \n",
    "                    (data.loc[index,\"peptied\"] == \"SGNSDVYENEIPGGQYTNLHFQAH\" and data.loc[index,\"Charge\"]==3) or \n",
    "                    (data.loc[index,\"peptied\"] == \"DAHQSLLATR\" and data.loc[index,\"Charge\"]==2) or \n",
    "                    \n",
    "                    (data.loc[index,\"peptied\"] == \"AYVEANQMLGDLIK\" and data.loc[index,\"Charge\"]==2) or \n",
    "                    (data.loc[index,\"peptied\"] == \"DAHQSLLATR\" and data.loc[index,\"Charge\"]==3) or \n",
    "                    (data.loc[index,\"peptied\"] == \"GLAPVQAYLHIPDIIK\" and data.loc[index,\"Charge\"]==3) or \n",
    "                    (data.loc[index,\"peptied\"] == \"PGASLPPLNLK\" and data.loc[index,\"Charge\"]==2)  \n",
    "                   ):\n",
    "                    continue\n",
    "\n",
    "            \n",
    "            RT_dif.append(RT_diff)\n",
    "            RT_win.append( 60 * ( max(max(rt_0),max(rt_1)) - min(min(rt_0),min(rt_1) ) ) )            \n",
    "            RT_hop.append(maxindex_0-maxindex_1)\n",
    "            \n",
    "            \n",
    "            if not(len(rt_1)==len(rt_0)):\n",
    "                print(f\"**********{protein}-{data.loc[index,'peptied']} _ {str(data.loc[index,'Charge'])}***************\" )\n",
    "                print(\"**************************\"+str(len(rt_1))+\"*************************************************\")\n",
    "                print(\"**************************\"+str(len(rt_0))+\"************************************************\")\n",
    "                print(f\"*********************************{maxindex_1},{maxindex_0}******************************************\")\n",
    "                print(\"***************************************************************************\")\n",
    "\n",
    "            if abs(maxindex_0-maxindex_1)>1:\n",
    "                plt.vlines(rt_0[int_0.index(max(int_0))],ymin=min(int_0),ymax=max(int_0),linestyle=\"-.\",alpha=0.5)\n",
    "                plt.scatter(rt_0,int_0,label='M0')        \n",
    "                plt.vlines(rt_1[int_1.index(max(int_1))],ymin=min(int_1),ymax=max(int_1),linestyle=\"-.\",alpha=0.5)\n",
    "                plt.scatter(rt_1,int_1,label='M1')\n",
    "\n",
    "                plt.legend()\n",
    "                plt.title(str(index+1)+\"  \"+data.loc[index,\"peptied\"] + \"_\"+str(data.loc[index,\"Charge\"]) + \" [RT diff = {:.2f}]\".format(RT_diff) + \" => \"+ str(len(rt_0))+ \"  maxindex_1: \"+str(maxindex_1) + \"  maxindex_0: \"+str(maxindex_0))\n",
    "                print(protein,(str(index+1)+\"  \"+data.loc[index,\"peptied\"] + \"_\"+str(data.loc[index,\"Charge\"]) + \" [RT diff = {:.2f}]\".format(RT_diff) + \" => \"+ str(len(rt_0))))\n",
    "                plt.show()\n",
    "            \n",
    "    \n",
    "    \n",
    "\n",
    "        except:\n",
    "            print(index)\n",
    "            continue\n",
    "\n"
   ]
  },
  {
   "cell_type": "code",
   "execution_count": 51,
   "id": "b219aa13",
   "metadata": {},
   "outputs": [],
   "source": [
    "# RT_win"
   ]
  },
  {
   "cell_type": "code",
   "execution_count": 52,
   "id": "04b14d32",
   "metadata": {},
   "outputs": [],
   "source": [
    "# sns.kdeplot(RT_dif)\n",
    "# plt.xlabel(\"RT dif\")"
   ]
  },
  {
   "cell_type": "code",
   "execution_count": 60,
   "id": "fa604ac0",
   "metadata": {},
   "outputs": [
    {
     "data": {
      "image/png": "[encoded data removed]",
      "text/plain": [
       "<Figure size 720x432 with 1 Axes>"
      ]
     },
     "metadata": {
      "needs_background": "light"
     },
     "output_type": "display_data"
    }
   ],
   "source": [
    "\n",
    "# plt.figure(figsize=(15,7))\n",
    "plt.rc('font', size=14) \n",
    "plt.rcParams['figure.figsize'] = 10,6\n",
    "# sns.kdeplot(RT_hop,bw_adjust=2.5,color=\"#20639b\",shade=False)\n",
    "plt.hist(RT_hop,color=\"#20639b\",bins=25)\n",
    "plt.xlabel(\"Peak index difference\")\n",
    "plt.ylabel(\"Number of distinct peptides\")\n",
    "plt.xlim([-3,3])\n",
    "\n",
    "# plt.savefig(f\"RT_diff_density.jpeg\",dpi=900, bbox_inches = \"tight\")\n",
    "plt.savefig(f\"RT_diff_hist_2.jpeg\",dpi=900, bbox_inches = \"tight\")"
   ]
  },
  {
   "cell_type": "code",
   "execution_count": 9,
   "id": "6702c618",
   "metadata": {},
   "outputs": [
    {
     "data": {
      "image/png": "[encoded data removed]",
      "text/plain": [
       "<Figure size 720x432 with 1 Axes>"
      ]
     },
     "metadata": {
      "needs_background": "light"
     },
     "output_type": "display_data"
    }
   ],
   "source": [
    "plt.rc('font', size=14) \n",
    "plt.rcParams['figure.figsize'] = 10,6\n",
    "sns.kdeplot([RT_dif[x]/RT_win[x] for x in range(len(RT_dif))],bw_adjust=2.5,color=\"#20639b\",shade=False)\n",
    "plt.xlabel(\"Retention time difference / Elution window\")\n",
    "\n",
    "plt.savefig(f\"RT_diff_density_EW.jpeg\",dpi=900, bbox_inches = \"tight\")"
   ]
  },
  {
   "cell_type": "code",
   "execution_count": 10,
   "id": "c6566451",
   "metadata": {},
   "outputs": [],
   "source": [
    "# plt.hist([x for x in RT_dif],color=\"#20639b\")\n",
    "# plt.xlabel(\"RT dif\")\n",
    "# plt.rc('font', size=14) \n",
    "# plt.rcParams['figure.figsize'] = 10,6\n",
    "# plt.xlabel(\"Retention time difference (sec)\")\n",
    "\n",
    "# plt.savefig(f\"RT_diff_hist.jpeg\",dpi=900, bbox_inches = \"tight\")"
   ]
  },
  {
   "cell_type": "code",
   "execution_count": 11,
   "id": "2a4b6166",
   "metadata": {},
   "outputs": [
    {
     "data": {
      "text/plain": [
       "Text(0.5, 0, 'RT dif / Elution window')"
      ]
     },
     "execution_count": 11,
     "metadata": {},
     "output_type": "execute_result"
    },
    {
     "data": {
      "image/png": "[encoded data removed]",
      "text/plain": [
       "<Figure size 720x432 with 1 Axes>"
      ]
     },
     "metadata": {
      "needs_background": "light"
     },
     "output_type": "display_data"
    }
   ],
   "source": [
    "plt.hist([RT_dif[x]/RT_win[x] for x in range(len(RT_dif))])\n",
    "plt.xlabel(\"RT dif / Elution window\")"
   ]
  },
  {
   "cell_type": "code",
   "execution_count": 12,
   "id": "2d589e8f",
   "metadata": {},
   "outputs": [],
   "source": [
    "# sns.kdeplot([RT_dif[x]/RT_win[x] for x in range(len(RT_dif))])\n",
    "# plt.xlabel(\"RT dif / Elution window\")"
   ]
  },
  {
   "cell_type": "code",
   "execution_count": 13,
   "id": "1fdd9035",
   "metadata": {},
   "outputs": [],
   "source": [
    "# sns.kdeplot([RT_dif[x]/RT_win[x] for x in range(len(RT_dif))],bw_adjust=2.5)\n",
    "# plt.xlabel(\"RT dif / Elution window\")"
   ]
  },
  {
   "cell_type": "code",
   "execution_count": null,
   "id": "b7f0c8c7",
   "metadata": {},
   "outputs": [],
   "source": []
  }
 ],
 "metadata": {
  "kernelspec": {
   "display_name": "Python 3 (ipykernel)",
   "language": "python",
   "name": "python3"
  },
  "language_info": {
   "codemirror_mode": {
    "name": "ipython",
    "version": 3
   },
   "file_extension": ".py",
   "mimetype": "text/x-python",
   "name": "python",
   "nbconvert_exporter": "python",
   "pygments_lexer": "ipython3",
   "version": "3.9.11"
  }
 },
 "nbformat": 4,
 "nbformat_minor": 5
}
