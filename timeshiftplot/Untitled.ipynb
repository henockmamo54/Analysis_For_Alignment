{
 "cells": [
  {
   "cell_type": "code",
   "execution_count": 67,
   "id": "003fe0af",
   "metadata": {},
   "outputs": [],
   "source": [
    "import numpy as np\n",
    "import pandas as pd\n",
    "from matplotlib import pyplot as plt\n",
    "import os"
   ]
  },
  {
   "cell_type": "code",
   "execution_count": 70,
   "id": "11bdbb3b",
   "metadata": {},
   "outputs": [],
   "source": [
    "files=os.listdir(\".\")\n",
    "files=[x for x in files if \".txt\" in x]"
   ]
  },
  {
   "cell_type": "code",
   "execution_count": 88,
   "id": "7ad90b57",
   "metadata": {},
   "outputs": [],
   "source": [
    "# data=pd.read_csv(\"_Users_hmdebern.UTMB-USERS-M_Desktop_Beynon_MCP_mzml_Liver_HW_2h_L21.mzML__Users_hmdebern.UTMB-USERS-M_Desktop_Beynon_MCP_mzml_Liver_HW_2h_L24.mzML.txt\",header=None)\n",
    "data=pd.read_csv(files[5],header=None)\n",
    "data.columns=[\"val\",\"drop\"]\n",
    "data=np.array(data.val)\n",
    "\n"
   ]
  },
  {
   "cell_type": "code",
   "execution_count": 92,
   "id": "515b92ad",
   "metadata": {},
   "outputs": [],
   "source": [
    "x_ret=data[np.arange(2,data.shape[0],4)]\n",
    "y_ret=data[np.arange(3,data.shape[0],4)]\n",
    "\n",
    "x_ind=data[np.arange(0,data.shape[0],4)]\n",
    "y_ind=data[np.arange(1,data.shape[0],4)]"
   ]
  },
  {
   "cell_type": "code",
   "execution_count": 96,
   "id": "7ec5ca49",
   "metadata": {},
   "outputs": [
    {
     "data": {
      "text/html": [
       "<div>\n",
       "<style scoped>\n",
       "    .dataframe tbody tr th:only-of-type {\n",
       "        vertical-align: middle;\n",
       "    }\n",
       "\n",
       "    .dataframe tbody tr th {\n",
       "        vertical-align: top;\n",
       "    }\n",
       "\n",
       "    .dataframe thead th {\n",
       "        text-align: right;\n",
       "    }\n",
       "</style>\n",
       "<table border=\"1\" class=\"dataframe\">\n",
       "  <thead>\n",
       "    <tr style=\"text-align: right;\">\n",
       "      <th></th>\n",
       "      <th>x_ret</th>\n",
       "      <th>y_ret</th>\n",
       "      <th>x_ind</th>\n",
       "      <th>y_ind</th>\n",
       "    </tr>\n",
       "  </thead>\n",
       "  <tbody>\n",
       "    <tr>\n",
       "      <th>0</th>\n",
       "      <td>0.007344</td>\n",
       "      <td>0.007395</td>\n",
       "      <td>1.0</td>\n",
       "      <td>1.0</td>\n",
       "    </tr>\n",
       "    <tr>\n",
       "      <th>1</th>\n",
       "      <td>0.011830</td>\n",
       "      <td>0.011362</td>\n",
       "      <td>2.0</td>\n",
       "      <td>2.0</td>\n",
       "    </tr>\n",
       "    <tr>\n",
       "      <th>2</th>\n",
       "      <td>0.015690</td>\n",
       "      <td>0.017279</td>\n",
       "      <td>3.0</td>\n",
       "      <td>3.0</td>\n",
       "    </tr>\n",
       "    <tr>\n",
       "      <th>3</th>\n",
       "      <td>0.020601</td>\n",
       "      <td>0.021350</td>\n",
       "      <td>4.0</td>\n",
       "      <td>4.0</td>\n",
       "    </tr>\n",
       "    <tr>\n",
       "      <th>4</th>\n",
       "      <td>0.024667</td>\n",
       "      <td>0.024743</td>\n",
       "      <td>5.0</td>\n",
       "      <td>5.0</td>\n",
       "    </tr>\n",
       "    <tr>\n",
       "      <th>5</th>\n",
       "      <td>0.028024</td>\n",
       "      <td>0.028095</td>\n",
       "      <td>6.0</td>\n",
       "      <td>6.0</td>\n",
       "    </tr>\n",
       "    <tr>\n",
       "      <th>6</th>\n",
       "      <td>0.031373</td>\n",
       "      <td>0.031466</td>\n",
       "      <td>7.0</td>\n",
       "      <td>7.0</td>\n",
       "    </tr>\n",
       "    <tr>\n",
       "      <th>7</th>\n",
       "      <td>0.034753</td>\n",
       "      <td>0.034839</td>\n",
       "      <td>8.0</td>\n",
       "      <td>8.0</td>\n",
       "    </tr>\n",
       "    <tr>\n",
       "      <th>8</th>\n",
       "      <td>0.038120</td>\n",
       "      <td>0.038256</td>\n",
       "      <td>9.0</td>\n",
       "      <td>9.0</td>\n",
       "    </tr>\n",
       "    <tr>\n",
       "      <th>9</th>\n",
       "      <td>0.043276</td>\n",
       "      <td>0.041641</td>\n",
       "      <td>10.0</td>\n",
       "      <td>10.0</td>\n",
       "    </tr>\n",
       "  </tbody>\n",
       "</table>\n",
       "</div>"
      ],
      "text/plain": [
       "      x_ret     y_ret  x_ind  y_ind\n",
       "0  0.007344  0.007395    1.0    1.0\n",
       "1  0.011830  0.011362    2.0    2.0\n",
       "2  0.015690  0.017279    3.0    3.0\n",
       "3  0.020601  0.021350    4.0    4.0\n",
       "4  0.024667  0.024743    5.0    5.0\n",
       "5  0.028024  0.028095    6.0    6.0\n",
       "6  0.031373  0.031466    7.0    7.0\n",
       "7  0.034753  0.034839    8.0    8.0\n",
       "8  0.038120  0.038256    9.0    9.0\n",
       "9  0.043276  0.041641   10.0   10.0"
      ]
     },
     "execution_count": 96,
     "metadata": {},
     "output_type": "execute_result"
    }
   ],
   "source": [
    "temp=pd.DataFrame([x_ret,y_ret,x_ind,y_ind]).transpose()\n",
    "temp.columns=[\"x_ret\",\"y_ret\",\"x_ind\",\"y_ind\"]\n",
    "temp.head(10)"
   ]
  },
  {
   "cell_type": "code",
   "execution_count": 98,
   "id": "444896f0",
   "metadata": {},
   "outputs": [
    {
     "data": {
      "text/plain": [
       "<matplotlib.collections.PathCollection at 0x2b18aa96100>"
      ]
     },
     "execution_count": 98,
     "metadata": {},
     "output_type": "execute_result"
    },
    {
     "data": {
      "image/png": "[encoded data removed]",
      "text/plain": [
       "<Figure size 720x360 with 1 Axes>"
      ]
     },
     "metadata": {
      "needs_background": "light"
     },
     "output_type": "display_data"
    }
   ],
   "source": [
    "# plt.scatter(range(0,x.shape[0]), abs(x-y))\n",
    "plt.figure(figsize=(10,5))\n",
    "plt.scatter(x_ret,abs(x_ret-y_ret))"
   ]
  },
  {
   "cell_type": "code",
   "execution_count": 100,
   "id": "649b3c34",
   "metadata": {},
   "outputs": [
    {
     "data": {
      "text/plain": [
       "<matplotlib.collections.PathCollection at 0x2b18c023c10>"
      ]
     },
     "execution_count": 100,
     "metadata": {},
     "output_type": "execute_result"
    },
    {
     "data": {
      "image/png": "[encoded data removed]",
      "text/plain": [
       "<Figure size 720x360 with 1 Axes>"
      ]
     },
     "metadata": {
      "needs_background": "light"
     },
     "output_type": "display_data"
    }
   ],
   "source": [
    "plt.figure(figsize=(10,5))\n",
    "plt.scatter(x_ind,y_ind)"
   ]
  },
  {
   "cell_type": "code",
   "execution_count": null,
   "id": "1ceeb972",
   "metadata": {},
   "outputs": [],
   "source": []
  }
 ],
 "metadata": {
  "kernelspec": {
   "display_name": "Python 3 (ipykernel)",
   "language": "python",
   "name": "python3"
  },
  "language_info": {
   "codemirror_mode": {
    "name": "ipython",
    "version": 3
   },
   "file_extension": ".py",
   "mimetype": "text/x-python",
   "name": "python",
   "nbconvert_exporter": "python",
   "pygments_lexer": "ipython3",
   "version": "3.9.11"
  }
 },
 "nbformat": 4,
 "nbformat_minor": 5
}
