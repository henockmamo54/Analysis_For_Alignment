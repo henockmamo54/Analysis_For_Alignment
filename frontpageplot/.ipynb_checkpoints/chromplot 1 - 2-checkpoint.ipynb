{
 "cells": [
  {
   "cell_type": "code",
   "execution_count": 1,
   "id": "e4426c08",
   "metadata": {},
   "outputs": [],
   "source": [
    "import numpy as np\n",
    "import pandas as pd\n",
    "from matplotlib import pyplot as plt\n",
    "import seaborn as sns"
   ]
  },
  {
   "cell_type": "code",
   "execution_count": 2,
   "id": "6dbc4a5d",
   "metadata": {},
   "outputs": [
    {
     "name": "stdout",
     "output_type": "stream",
     "text": [
      "(11522, 2)\n"
     ]
    },
    {
     "data": {
      "text/html": [
       "<div>\n",
       "<style scoped>\n",
       "    .dataframe tbody tr th:only-of-type {\n",
       "        vertical-align: middle;\n",
       "    }\n",
       "\n",
       "    .dataframe tbody tr th {\n",
       "        vertical-align: top;\n",
       "    }\n",
       "\n",
       "    .dataframe thead th {\n",
       "        text-align: right;\n",
       "    }\n",
       "</style>\n",
       "<table border=\"1\" class=\"dataframe\">\n",
       "  <thead>\n",
       "    <tr style=\"text-align: right;\">\n",
       "      <th></th>\n",
       "      <th>L1</th>\n",
       "      <th>L2</th>\n",
       "    </tr>\n",
       "  </thead>\n",
       "  <tbody>\n",
       "    <tr>\n",
       "      <th>0</th>\n",
       "      <td>44</td>\n",
       "      <td>45</td>\n",
       "    </tr>\n",
       "    <tr>\n",
       "      <th>1</th>\n",
       "      <td>68</td>\n",
       "      <td>68</td>\n",
       "    </tr>\n",
       "    <tr>\n",
       "      <th>2</th>\n",
       "      <td>109</td>\n",
       "      <td>99</td>\n",
       "    </tr>\n",
       "    <tr>\n",
       "      <th>3</th>\n",
       "      <td>134</td>\n",
       "      <td>123</td>\n",
       "    </tr>\n",
       "    <tr>\n",
       "      <th>4</th>\n",
       "      <td>155</td>\n",
       "      <td>143</td>\n",
       "    </tr>\n",
       "  </tbody>\n",
       "</table>\n",
       "</div>"
      ],
      "text/plain": [
       "    L1   L2\n",
       "0   44   45\n",
       "1   68   68\n",
       "2  109   99\n",
       "3  134  123\n",
       "4  155  143"
      ]
     },
     "execution_count": 2,
     "metadata": {},
     "output_type": "execute_result"
    }
   ],
   "source": [
    "data=pd.read_csv(\"Align_Liver_HW_2h_L1_Liver_HW_2h_L2.txt\",header=None)\n",
    "L11=np.array(data.iloc[list(range(0,data.shape[0],2)),0])\n",
    "L2=np.array(data.iloc[list(range(1,data.shape[0],2)),0])\n",
    "\n",
    "tempdata1=pd.DataFrame()\n",
    "tempdata1[\"L1\"]=[int(x*60*100) for x in L11]\n",
    "tempdata1[\"L2\"]=[int(x*60*100) for x in L2]\n",
    "print(tempdata1.shape)\n",
    "tempdata1.head()"
   ]
  },
  {
   "cell_type": "code",
   "execution_count": 3,
   "id": "676534b6",
   "metadata": {},
   "outputs": [],
   "source": [
    "# chrom1.dtypes"
   ]
  },
  {
   "cell_type": "code",
   "execution_count": 4,
   "id": "f557ab00",
   "metadata": {},
   "outputs": [
    {
     "name": "stdout",
     "output_type": "stream",
     "text": [
      "(69644, 2) (69535, 2)\n"
     ]
    },
    {
     "data": {
      "text/html": [
       "<div>\n",
       "<style scoped>\n",
       "    .dataframe tbody tr th:only-of-type {\n",
       "        vertical-align: middle;\n",
       "    }\n",
       "\n",
       "    .dataframe tbody tr th {\n",
       "        vertical-align: top;\n",
       "    }\n",
       "\n",
       "    .dataframe thead th {\n",
       "        text-align: right;\n",
       "    }\n",
       "</style>\n",
       "<table border=\"1\" class=\"dataframe\">\n",
       "  <thead>\n",
       "    <tr style=\"text-align: right;\">\n",
       "      <th></th>\n",
       "      <th>Time</th>\n",
       "      <th>Intensity</th>\n",
       "    </tr>\n",
       "  </thead>\n",
       "  <tbody>\n",
       "    <tr>\n",
       "      <th>0</th>\n",
       "      <td>13</td>\n",
       "      <td>3.690434e+04</td>\n",
       "    </tr>\n",
       "    <tr>\n",
       "      <th>1</th>\n",
       "      <td>44</td>\n",
       "      <td>1.327102e+07</td>\n",
       "    </tr>\n",
       "    <tr>\n",
       "      <th>2</th>\n",
       "      <td>68</td>\n",
       "      <td>1.245245e+07</td>\n",
       "    </tr>\n",
       "    <tr>\n",
       "      <th>3</th>\n",
       "      <td>81</td>\n",
       "      <td>8.779101e+03</td>\n",
       "    </tr>\n",
       "    <tr>\n",
       "      <th>4</th>\n",
       "      <td>96</td>\n",
       "      <td>1.949144e+04</td>\n",
       "    </tr>\n",
       "  </tbody>\n",
       "</table>\n",
       "</div>"
      ],
      "text/plain": [
       "   Time     Intensity\n",
       "0    13  3.690434e+04\n",
       "1    44  1.327102e+07\n",
       "2    68  1.245245e+07\n",
       "3    81  8.779101e+03\n",
       "4    96  1.949144e+04"
      ]
     },
     "execution_count": 4,
     "metadata": {},
     "output_type": "execute_result"
    }
   ],
   "source": [
    "chrom1=pd.read_csv(\"chrom1.txt\")\n",
    "chrom2=pd.read_csv(\"chrom2.txt\")\n",
    "chrom1[\"Time\"]=[int(100*60*x) for x in chrom1.Time]\n",
    "chrom2[\"Time\"]=[int(100*60*x) for x in chrom2.Time]\n",
    "print(chrom1.shape,chrom2.shape)\n",
    "chrom1.head()"
   ]
  },
  {
   "cell_type": "code",
   "execution_count": 5,
   "id": "a14e96cd",
   "metadata": {},
   "outputs": [
    {
     "name": "stdout",
     "output_type": "stream",
     "text": [
      "(10175, 5)\n"
     ]
    },
    {
     "data": {
      "text/html": [
       "<div>\n",
       "<style scoped>\n",
       "    .dataframe tbody tr th:only-of-type {\n",
       "        vertical-align: middle;\n",
       "    }\n",
       "\n",
       "    .dataframe tbody tr th {\n",
       "        vertical-align: top;\n",
       "    }\n",
       "\n",
       "    .dataframe thead th {\n",
       "        text-align: right;\n",
       "    }\n",
       "</style>\n",
       "<table border=\"1\" class=\"dataframe\">\n",
       "  <thead>\n",
       "    <tr style=\"text-align: right;\">\n",
       "      <th></th>\n",
       "      <th>L1</th>\n",
       "      <th>L2</th>\n",
       "      <th>Intensity_x</th>\n",
       "      <th>Time</th>\n",
       "      <th>Intensity_y</th>\n",
       "    </tr>\n",
       "  </thead>\n",
       "  <tbody>\n",
       "    <tr>\n",
       "      <th>0</th>\n",
       "      <td>44</td>\n",
       "      <td>45</td>\n",
       "      <td>13271018.0</td>\n",
       "      <td>45</td>\n",
       "      <td>7403568.5</td>\n",
       "    </tr>\n",
       "    <tr>\n",
       "      <th>1</th>\n",
       "      <td>68</td>\n",
       "      <td>68</td>\n",
       "      <td>12452447.0</td>\n",
       "      <td>68</td>\n",
       "      <td>7474160.0</td>\n",
       "    </tr>\n",
       "    <tr>\n",
       "      <th>2</th>\n",
       "      <td>109</td>\n",
       "      <td>99</td>\n",
       "      <td>13270983.0</td>\n",
       "      <td>99</td>\n",
       "      <td>7199009.5</td>\n",
       "    </tr>\n",
       "    <tr>\n",
       "      <th>3</th>\n",
       "      <td>134</td>\n",
       "      <td>123</td>\n",
       "      <td>14569909.0</td>\n",
       "      <td>123</td>\n",
       "      <td>7279115.5</td>\n",
       "    </tr>\n",
       "    <tr>\n",
       "      <th>4</th>\n",
       "      <td>155</td>\n",
       "      <td>143</td>\n",
       "      <td>14632015.0</td>\n",
       "      <td>143</td>\n",
       "      <td>6995032.5</td>\n",
       "    </tr>\n",
       "    <tr>\n",
       "      <th>5</th>\n",
       "      <td>216</td>\n",
       "      <td>173</td>\n",
       "      <td>14615248.0</td>\n",
       "      <td>173</td>\n",
       "      <td>7378046.5</td>\n",
       "    </tr>\n",
       "    <tr>\n",
       "      <th>6</th>\n",
       "      <td>236</td>\n",
       "      <td>198</td>\n",
       "      <td>13891212.0</td>\n",
       "      <td>198</td>\n",
       "      <td>7691857.5</td>\n",
       "    </tr>\n",
       "    <tr>\n",
       "      <th>7</th>\n",
       "      <td>257</td>\n",
       "      <td>218</td>\n",
       "      <td>14094648.0</td>\n",
       "      <td>218</td>\n",
       "      <td>7954894.0</td>\n",
       "    </tr>\n",
       "    <tr>\n",
       "      <th>8</th>\n",
       "      <td>277</td>\n",
       "      <td>239</td>\n",
       "      <td>15511293.0</td>\n",
       "      <td>239</td>\n",
       "      <td>8225541.0</td>\n",
       "    </tr>\n",
       "    <tr>\n",
       "      <th>9</th>\n",
       "      <td>298</td>\n",
       "      <td>260</td>\n",
       "      <td>14569124.0</td>\n",
       "      <td>260</td>\n",
       "      <td>8076838.5</td>\n",
       "    </tr>\n",
       "  </tbody>\n",
       "</table>\n",
       "</div>"
      ],
      "text/plain": [
       "    L1   L2  Intensity_x  Time  Intensity_y\n",
       "0   44   45   13271018.0    45    7403568.5\n",
       "1   68   68   12452447.0    68    7474160.0\n",
       "2  109   99   13270983.0    99    7199009.5\n",
       "3  134  123   14569909.0   123    7279115.5\n",
       "4  155  143   14632015.0   143    6995032.5\n",
       "5  216  173   14615248.0   173    7378046.5\n",
       "6  236  198   13891212.0   198    7691857.5\n",
       "7  257  218   14094648.0   218    7954894.0\n",
       "8  277  239   15511293.0   239    8225541.0\n",
       "9  298  260   14569124.0   260    8076838.5"
      ]
     },
     "execution_count": 5,
     "metadata": {},
     "output_type": "execute_result"
    }
   ],
   "source": [
    "merged=tempdata1.merge(chrom1,left_on=\"L1\",right_on=\"Time\")[[\"L1\",\"L2\",\"Intensity\"]]\n",
    "merged=merged.merge(chrom2,left_on=\"L2\",right_on=\"Time\")\n",
    "print(merged.shape)\n",
    "merged.head(10)"
   ]
  },
  {
   "cell_type": "code",
   "execution_count": 15,
   "id": "3acc578f",
   "metadata": {},
   "outputs": [
    {
     "data": {
      "text/plain": [
       "[<matplotlib.lines.Line2D at 0x14953e14040>]"
      ]
     },
     "execution_count": 15,
     "metadata": {},
     "output_type": "execute_result"
    },
    {
     "data": {
      "image/png": "[encoded data removed]",
      "text/plain": [
       "<Figure size 432x288 with 1 Axes>"
      ]
     },
     "metadata": {
      "needs_background": "light"
     },
     "output_type": "display_data"
    }
   ],
   "source": [
    "plt.plot(merged.L1,merged.Intensity_x,c='k')\n",
    "plt.plot(merged.L2,merged.Intensity_y,alpha=0.7,c='r')"
   ]
  },
  {
   "cell_type": "code",
   "execution_count": 17,
   "id": "0ef24813",
   "metadata": {},
   "outputs": [
    {
     "data": {
      "text/plain": [
       "[<matplotlib.lines.Line2D at 0x14954972160>]"
      ]
     },
     "execution_count": 17,
     "metadata": {},
     "output_type": "execute_result"
    },
    {
     "data": {
      "image/png": "[encoded data removed]",
      "text/plain": [
       "<Figure size 432x288 with 1 Axes>"
      ]
     },
     "metadata": {
      "needs_background": "light"
     },
     "output_type": "display_data"
    }
   ],
   "source": [
    "plt.plot(merged.L1,merged.Intensity_x,c='k')\n",
    "plt.plot(merged.Time,merged.Intensity_y,alpha=0.7,c='r')"
   ]
  },
  {
   "cell_type": "code",
   "execution_count": null,
   "id": "53b96a05",
   "metadata": {},
   "outputs": [],
   "source": []
  }
 ],
 "metadata": {
  "kernelspec": {
   "display_name": "Python 3 (ipykernel)",
   "language": "python",
   "name": "python3"
  },
  "language_info": {
   "codemirror_mode": {
    "name": "ipython",
    "version": 3
   },
   "file_extension": ".py",
   "mimetype": "text/x-python",
   "name": "python",
   "nbconvert_exporter": "python",
   "pygments_lexer": "ipython3",
   "version": "3.9.11"
  }
 },
 "nbformat": 4,
 "nbformat_minor": 5
}
